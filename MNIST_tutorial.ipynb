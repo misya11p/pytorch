{
 "cells": [
  {
   "cell_type": "markdown",
   "metadata": {},
   "source": [
    "# MNIST手書き数字分類をやってみる\n",
    "\n",
    "<br>\n",
    "\n",
    "**参考**\n",
    "- [【入門】PyTorchの使い方をMNISTデータセットで学ぶ（15分）｜努力のガリレオ](https://dreamer-uma.com/pytorch-mlp-mnist/)"
   ]
  },
  {
   "cell_type": "code",
   "execution_count": 3,
   "metadata": {},
   "outputs": [],
   "source": [
    "import torch\n",
    "from torch import nn, optim\n",
    "from torch.nn import functional as F\n",
    "\n",
    "import matplotlib.pyplot as plt"
   ]
  },
  {
   "cell_type": "markdown",
   "metadata": {},
   "source": [
    "\n",
    "---\n",
    "\n",
    "## NNの定義\n",
    "\n",
    "torch.nnを継承してnnを定義する\n",
    "\n",
    "MNISTの手書き数字分類"
   ]
  },
  {
   "cell_type": "code",
   "execution_count": 4,
   "metadata": {},
   "outputs": [],
   "source": [
    "input_size, output_size = 28*28, 10\n",
    "\n",
    "class NeuralNetwork(nn.Module):\n",
    "    def __init__(self):\n",
    "        \"\"\"コンストラクタ\"\"\"\n",
    "        super().__init__() # 親クラスのコンストラクタ\n",
    "        self.l1 = nn.Linear(input_size, 1024)\n",
    "        self.l2 = nn.Linear(1024, 512)\n",
    "        self.l3 = nn.Linear(512, output_size)\n",
    "\n",
    "    def forward(self, z0):\n",
    "        \"\"\"順伝播\"\"\"\n",
    "        z1 = F.relu(self.l1(z0))\n",
    "        z2 = F.relu(self.l2(z1))\n",
    "        z3 = self.l3(z2)\n",
    "        return z3"
   ]
  },
  {
   "cell_type": "markdown",
   "metadata": {},
   "source": [
    "`nn.Linear`は全結合層。kearsでいうDense\n",
    "\n",
    "出力層にsoftmaxをかけていないが理由は後ほど"
   ]
  },
  {
   "cell_type": "markdown",
   "metadata": {},
   "source": [
    "\n",
    "---\n",
    "\n",
    "## インスタンス化\n",
    "\n",
    "GPU(もしくはCPU)に転送するという作業が必要らしい"
   ]
  },
  {
   "cell_type": "code",
   "execution_count": 5,
   "metadata": {},
   "outputs": [
    {
     "data": {
      "text/plain": [
       "False"
      ]
     },
     "execution_count": 5,
     "metadata": {},
     "output_type": "execute_result"
    }
   ],
   "source": [
    "# gpu使用可能かどうか\n",
    "torch.cuda.is_available()"
   ]
  },
  {
   "cell_type": "markdown",
   "metadata": {},
   "source": [
    "インスタンス化し、CPUに転送(?)"
   ]
  },
  {
   "cell_type": "code",
   "execution_count": 58,
   "metadata": {},
   "outputs": [
    {
     "data": {
      "text/plain": [
       "NeuralNetwork(\n",
       "  (l1): Linear(in_features=784, out_features=1024, bias=True)\n",
       "  (l2): Linear(in_features=1024, out_features=512, bias=True)\n",
       "  (l3): Linear(in_features=512, out_features=10, bias=True)\n",
       ")"
      ]
     },
     "execution_count": 58,
     "metadata": {},
     "output_type": "execute_result"
    }
   ],
   "source": [
    "# device = 'cuda' if torch.cuda.is_available() else 'cpu'\n",
    "# model = NeuralNetwork().to(device)\n",
    "\n",
    "model = NeuralNetwork()\n",
    "model"
   ]
  },
  {
   "cell_type": "code",
   "execution_count": 9,
   "metadata": {},
   "outputs": [
    {
     "data": {
      "text/plain": [
       "[Parameter containing:\n",
       " tensor([[ 0.0311, -0.0281,  0.0046,  ...,  0.0171, -0.0241,  0.0200],\n",
       "         [ 0.0081, -0.0187,  0.0357,  ...,  0.0193,  0.0060,  0.0211],\n",
       "         [-0.0333, -0.0110,  0.0097,  ...,  0.0161,  0.0105,  0.0142],\n",
       "         ...,\n",
       "         [-0.0220,  0.0138, -0.0270,  ..., -0.0032,  0.0169, -0.0163],\n",
       "         [-0.0355, -0.0332,  0.0061,  ...,  0.0181,  0.0095,  0.0016],\n",
       "         [-0.0270, -0.0225,  0.0140,  ..., -0.0252,  0.0083,  0.0238]],\n",
       "        requires_grad=True),\n",
       " Parameter containing:\n",
       " tensor([-0.0272, -0.0142, -0.0066,  ..., -0.0052, -0.0164,  0.0022],\n",
       "        requires_grad=True),\n",
       " Parameter containing:\n",
       " tensor([[ 2.7420e-03, -1.2877e-02, -6.4170e-03,  ...,  3.3783e-03,\n",
       "          -1.1825e-02, -2.4582e-02],\n",
       "         [-2.6368e-02,  1.9767e-02, -1.5704e-02,  ..., -1.9275e-02,\n",
       "           2.3740e-02, -1.1299e-02],\n",
       "         [-2.6046e-02,  1.5742e-02,  8.2186e-03,  ...,  1.8279e-02,\n",
       "          -1.2141e-02,  3.0340e-02],\n",
       "         ...,\n",
       "         [-2.6334e-02, -6.4522e-05, -2.2333e-02,  ...,  1.0390e-02,\n",
       "           7.8688e-03, -1.7811e-02],\n",
       "         [-1.2169e-02,  9.2244e-03, -5.3094e-04,  ...,  1.0775e-02,\n",
       "          -1.8343e-02, -2.4602e-02],\n",
       "         [ 2.9701e-02,  2.4019e-02, -1.9329e-02,  ...,  1.6860e-02,\n",
       "          -2.2045e-02,  1.8603e-02]], requires_grad=True),\n",
       " Parameter containing:\n",
       " tensor([-0.0181, -0.0122,  0.0212, -0.0041,  0.0091,  0.0208,  0.0006,  0.0224,\n",
       "         -0.0221,  0.0067,  0.0182,  0.0155,  0.0097, -0.0255,  0.0247,  0.0153,\n",
       "          0.0011, -0.0177, -0.0055, -0.0222,  0.0071, -0.0063, -0.0236, -0.0136,\n",
       "         -0.0189,  0.0039, -0.0237, -0.0170,  0.0051,  0.0285,  0.0052,  0.0010,\n",
       "         -0.0199,  0.0307, -0.0133, -0.0051, -0.0112,  0.0111, -0.0199,  0.0163,\n",
       "          0.0289, -0.0305,  0.0143,  0.0053, -0.0206, -0.0247,  0.0045,  0.0088,\n",
       "          0.0275,  0.0091,  0.0260, -0.0144, -0.0085, -0.0137,  0.0019, -0.0165,\n",
       "         -0.0214,  0.0264,  0.0178,  0.0293,  0.0143, -0.0252, -0.0198, -0.0189,\n",
       "          0.0023,  0.0244,  0.0090, -0.0243, -0.0214, -0.0145, -0.0312, -0.0138,\n",
       "         -0.0203, -0.0085, -0.0226,  0.0098,  0.0072,  0.0170,  0.0159, -0.0300,\n",
       "          0.0020, -0.0149,  0.0193, -0.0026,  0.0025, -0.0042,  0.0097, -0.0015,\n",
       "          0.0217, -0.0149, -0.0133, -0.0247, -0.0240, -0.0090, -0.0194,  0.0037,\n",
       "          0.0307, -0.0098,  0.0134,  0.0037, -0.0241, -0.0095,  0.0124,  0.0297,\n",
       "         -0.0270, -0.0098, -0.0044, -0.0070,  0.0282, -0.0092, -0.0112,  0.0132,\n",
       "         -0.0148,  0.0003,  0.0143,  0.0279,  0.0007,  0.0189,  0.0076,  0.0294,\n",
       "         -0.0038,  0.0060,  0.0086, -0.0158,  0.0247,  0.0233, -0.0085,  0.0202,\n",
       "         -0.0257,  0.0119, -0.0288, -0.0240, -0.0234,  0.0066,  0.0305, -0.0121,\n",
       "         -0.0048,  0.0016, -0.0235,  0.0041, -0.0219,  0.0233,  0.0179,  0.0129,\n",
       "          0.0273, -0.0059, -0.0202,  0.0194, -0.0065,  0.0224,  0.0281, -0.0226,\n",
       "          0.0041,  0.0297,  0.0285, -0.0119, -0.0089, -0.0108,  0.0014,  0.0184,\n",
       "          0.0256,  0.0031, -0.0266, -0.0177, -0.0210, -0.0099, -0.0011,  0.0268,\n",
       "          0.0250,  0.0260,  0.0299, -0.0175, -0.0244,  0.0077,  0.0049,  0.0210,\n",
       "         -0.0124,  0.0240, -0.0153, -0.0164,  0.0141, -0.0157,  0.0062, -0.0297,\n",
       "         -0.0115,  0.0161,  0.0289, -0.0234,  0.0030, -0.0275, -0.0110,  0.0072,\n",
       "          0.0080, -0.0067, -0.0304, -0.0201, -0.0191,  0.0102, -0.0226,  0.0293,\n",
       "         -0.0023,  0.0040, -0.0108,  0.0010,  0.0295, -0.0176, -0.0018,  0.0178,\n",
       "         -0.0108,  0.0299, -0.0284,  0.0170, -0.0007, -0.0242,  0.0224, -0.0251,\n",
       "          0.0183, -0.0137,  0.0261,  0.0055,  0.0210,  0.0054, -0.0067,  0.0290,\n",
       "          0.0060, -0.0069,  0.0037,  0.0047, -0.0074, -0.0117, -0.0013, -0.0085,\n",
       "          0.0249,  0.0058,  0.0271,  0.0058, -0.0066,  0.0293,  0.0045, -0.0165,\n",
       "          0.0048, -0.0289, -0.0310, -0.0057,  0.0032, -0.0175,  0.0046, -0.0252,\n",
       "          0.0052,  0.0276, -0.0145, -0.0092,  0.0109, -0.0004, -0.0223,  0.0201,\n",
       "         -0.0226,  0.0305, -0.0055,  0.0120,  0.0294, -0.0190,  0.0062, -0.0058,\n",
       "         -0.0226, -0.0173, -0.0076, -0.0067, -0.0147, -0.0160,  0.0307,  0.0214,\n",
       "         -0.0239,  0.0056,  0.0048,  0.0075, -0.0055,  0.0278,  0.0044,  0.0153,\n",
       "          0.0167,  0.0144,  0.0140,  0.0100, -0.0203, -0.0144, -0.0016, -0.0044,\n",
       "         -0.0083, -0.0259, -0.0282,  0.0054, -0.0138,  0.0092,  0.0224,  0.0276,\n",
       "         -0.0139, -0.0154,  0.0035,  0.0174,  0.0140, -0.0075,  0.0305,  0.0247,\n",
       "         -0.0265,  0.0188,  0.0096, -0.0063, -0.0089,  0.0018, -0.0175,  0.0097,\n",
       "         -0.0192, -0.0198,  0.0128, -0.0208, -0.0082,  0.0293, -0.0068,  0.0126,\n",
       "         -0.0093, -0.0143, -0.0214,  0.0116,  0.0183, -0.0180, -0.0211,  0.0160,\n",
       "         -0.0238, -0.0263,  0.0019,  0.0050, -0.0100, -0.0289,  0.0075, -0.0112,\n",
       "          0.0208, -0.0114,  0.0237,  0.0113, -0.0182, -0.0151,  0.0190, -0.0121,\n",
       "         -0.0278, -0.0182,  0.0186,  0.0153,  0.0060,  0.0206, -0.0075, -0.0236,\n",
       "          0.0056,  0.0203,  0.0298, -0.0160,  0.0211, -0.0038,  0.0062,  0.0084,\n",
       "         -0.0103,  0.0019, -0.0270,  0.0162, -0.0007, -0.0184, -0.0259,  0.0237,\n",
       "         -0.0059,  0.0300, -0.0200,  0.0169,  0.0078,  0.0282,  0.0304,  0.0032,\n",
       "          0.0227, -0.0184,  0.0031, -0.0271, -0.0108, -0.0217,  0.0057, -0.0297,\n",
       "         -0.0293,  0.0193,  0.0160,  0.0022,  0.0014,  0.0069, -0.0236,  0.0126,\n",
       "          0.0266, -0.0049,  0.0265,  0.0084, -0.0289,  0.0115, -0.0128, -0.0255,\n",
       "         -0.0032,  0.0034, -0.0020,  0.0292, -0.0301, -0.0050,  0.0236,  0.0055,\n",
       "         -0.0076,  0.0247, -0.0269,  0.0066,  0.0262, -0.0017,  0.0200,  0.0086,\n",
       "         -0.0124, -0.0172, -0.0024,  0.0182,  0.0045,  0.0023,  0.0015,  0.0184,\n",
       "         -0.0170,  0.0125, -0.0188,  0.0229,  0.0212, -0.0309,  0.0150,  0.0236,\n",
       "          0.0146, -0.0201,  0.0253, -0.0074, -0.0006,  0.0044,  0.0258, -0.0137,\n",
       "         -0.0003,  0.0297,  0.0045, -0.0310,  0.0017,  0.0111,  0.0244,  0.0079,\n",
       "          0.0163, -0.0291,  0.0242, -0.0202,  0.0134, -0.0083, -0.0189, -0.0256,\n",
       "          0.0282,  0.0170, -0.0014,  0.0197,  0.0269,  0.0055, -0.0227,  0.0109,\n",
       "         -0.0191,  0.0207,  0.0042, -0.0190,  0.0163,  0.0098,  0.0138, -0.0034,\n",
       "          0.0032, -0.0129, -0.0136,  0.0064,  0.0204, -0.0115, -0.0275,  0.0164,\n",
       "         -0.0301, -0.0037, -0.0057,  0.0192, -0.0016, -0.0081,  0.0212, -0.0016,\n",
       "          0.0245, -0.0081,  0.0020, -0.0104,  0.0250, -0.0142, -0.0021,  0.0093,\n",
       "          0.0188,  0.0069,  0.0228,  0.0222, -0.0223,  0.0269,  0.0062,  0.0078,\n",
       "         -0.0162,  0.0049, -0.0258,  0.0281, -0.0268, -0.0073,  0.0150, -0.0124],\n",
       "        requires_grad=True),\n",
       " Parameter containing:\n",
       " tensor([[-0.0401, -0.0229,  0.0047,  ..., -0.0267,  0.0058,  0.0131],\n",
       "         [-0.0027, -0.0295, -0.0034,  ...,  0.0133, -0.0437,  0.0055],\n",
       "         [ 0.0390, -0.0408, -0.0133,  ..., -0.0279, -0.0134,  0.0324],\n",
       "         ...,\n",
       "         [-0.0120,  0.0205,  0.0161,  ...,  0.0261,  0.0173, -0.0083],\n",
       "         [ 0.0204,  0.0357,  0.0201,  ..., -0.0125,  0.0378, -0.0175],\n",
       "         [ 0.0260,  0.0380,  0.0432,  ..., -0.0080,  0.0126,  0.0428]],\n",
       "        requires_grad=True),\n",
       " Parameter containing:\n",
       " tensor([-0.0371, -0.0103, -0.0288, -0.0038,  0.0204,  0.0099, -0.0170, -0.0058,\n",
       "         -0.0236, -0.0403], requires_grad=True)]"
      ]
     },
     "execution_count": 9,
     "metadata": {},
     "output_type": "execute_result"
    }
   ],
   "source": [
    "# パラメータの確認\n",
    "list(model.parameters())"
   ]
  },
  {
   "cell_type": "markdown",
   "metadata": {},
   "source": [
    "順伝播の確認\n",
    "\n",
    "適当な配列を用意して予測"
   ]
  },
  {
   "cell_type": "code",
   "execution_count": 10,
   "metadata": {},
   "outputs": [
    {
     "data": {
      "text/plain": [
       "tensor([-0.1888, -0.0457,  0.1630, -0.0362,  0.0409, -0.0165, -0.0064,  0.0362,\n",
       "         0.0003,  0.0370], grad_fn=<AddBackward0>)"
      ]
     },
     "execution_count": 10,
     "metadata": {},
     "output_type": "execute_result"
    }
   ],
   "source": [
    "x_sample = torch.randn(784)\n",
    "result = model(x_sample)\n",
    "result"
   ]
  },
  {
   "cell_type": "markdown",
   "metadata": {},
   "source": [
    "[torch.optim — PyTorch 1.11.0 documentation](https://pytorch.org/docs/stable/optim.html)"
   ]
  },
  {
   "cell_type": "code",
   "execution_count": 11,
   "metadata": {},
   "outputs": [],
   "source": [
    "criterion = nn.CrossEntropyLoss() # 交差エントロピー\n",
    "optimizer = optim.SGD(model.parameters(), lr=0.01) # SGD"
   ]
  },
  {
   "cell_type": "markdown",
   "metadata": {},
   "source": [
    "\n",
    "---\n",
    "\n",
    "## 学習\n",
    "\n",
    "まず1エポックで行う過程を関数にする"
   ]
  },
  {
   "cell_type": "code",
   "execution_count": 12,
   "metadata": {},
   "outputs": [],
   "source": [
    "def train(model, train_loader, criterion, optimizer):\n",
    "    model.train() # 学習モードにする\n",
    "\n",
    "    train_loss = 0.0\n",
    "    num_train = 0\n",
    "\n",
    "    for (images, labels) in train_loader:\n",
    "        # batch数を累積\n",
    "        num_train += len(labels)\n",
    "\n",
    "        # viewで1次元配列に変更\n",
    "        images = images.view(-1, 28*28)\n",
    "\n",
    "        # 勾配をリセット\n",
    "        optimizer.zero_grad()\n",
    "\n",
    "        # 予測\n",
    "        outputs = model(images)\n",
    "\n",
    "        # lossを計算\n",
    "        loss = criterion(outputs, labels)\n",
    "\n",
    "        # 誤差逆伝播\n",
    "        loss.backward()\n",
    "\n",
    "        # パラメータ更新\n",
    "        optimizer.step()\n",
    "\n",
    "        # lossを累積\n",
    "        train_loss += loss.item()\n",
    "\n",
    "    train_loss = train_loss / num_train\n",
    "\n",
    "    return train_loss"
   ]
  },
  {
   "cell_type": "markdown",
   "metadata": {},
   "source": [
    "それを繰り返す関数"
   ]
  },
  {
   "cell_type": "code",
   "execution_count": 13,
   "metadata": {},
   "outputs": [],
   "source": [
    "def run(model, train_loader, criterion, optimizer, num_epochs):\n",
    "\n",
    "    train_loss_list = []\n",
    "    # valid_loss_list = []\n",
    "\n",
    "    for epoch in range(num_epochs):\n",
    "\n",
    "        _train_loss = train(model, train_loader, criterion, optimizer)\n",
    "        # _valid_loss = valid(model, train_loader, criterion, optimizer, device=device)\n",
    "\n",
    "        print(f'Epoch [{epoch+1}], train_Loss : {_train_loss}')\n",
    "        # print(f'Epoch [{epoch+1}], train_Loss : {_train_loss:.5f}, val_Loss : {_valid_loss:.5f}')\n",
    "        \n",
    "        train_loss_list.append(_train_loss)\n",
    "        # valid_loss_list.append(_valid_loss)\n",
    "\n",
    "    return train_loss_list #, valid_loss_list"
   ]
  },
  {
   "cell_type": "markdown",
   "metadata": {},
   "source": [
    "\n",
    "---\n",
    "\n",
    "## データを用意\n",
    "\n",
    "MNISTの手書き数字をインポート\n",
    "\n",
    "pytorchはTensorというデータの型を扱う。\n",
    "torchvisionでやるとその型でインポートしてくれるので良き。"
   ]
  },
  {
   "cell_type": "code",
   "execution_count": 14,
   "metadata": {},
   "outputs": [],
   "source": [
    "from torchvision.datasets import MNIST\n",
    "from torchvision import transforms"
   ]
  },
  {
   "cell_type": "markdown",
   "metadata": {},
   "source": [
    "[MNIST —Torchvision0.12ドキュメント](https://pytorch.org/vision/stable/generated/torchvision.datasets.MNIST.html#torchvision.datasets.MNIST)\n",
    "\n",
    "```\n",
    "train = MNIST(\n",
    "    root='./data', # データのファイルパス(ない場合は勝手にダウンロードされる)\n",
    "    train=True, # 訓練データかラベルデータか\n",
    "    transform=transforms.ToTensor(), # Tensor型に変換\n",
    "    download=True)\n",
    "```"
   ]
  },
  {
   "cell_type": "code",
   "execution_count": 15,
   "metadata": {},
   "outputs": [],
   "source": [
    "train_data = MNIST(\n",
    "    root='./data',\n",
    "    train=True,\n",
    "    transform=transforms.ToTensor(),\n",
    "    download=False)\n",
    "\n",
    "test_data = MNIST(\n",
    "    root='./data',\n",
    "    train=False,\n",
    "    transform=transforms.ToTensor(),\n",
    "    download=True)"
   ]
  },
  {
   "cell_type": "code",
   "execution_count": 16,
   "metadata": {},
   "outputs": [
    {
     "data": {
      "text/plain": [
       "Dataset MNIST\n",
       "    Number of datapoints: 60000\n",
       "    Root location: ./data\n",
       "    Split: Train\n",
       "    StandardTransform\n",
       "Transform: ToTensor()"
      ]
     },
     "execution_count": 16,
     "metadata": {},
     "output_type": "execute_result"
    }
   ],
   "source": [
    "train_data"
   ]
  },
  {
   "cell_type": "code",
   "execution_count": 52,
   "metadata": {},
   "outputs": [],
   "source": [
    "X_train = train_data.data.to(torch.float)\n",
    "y_train = train_data.targets\n",
    "\n",
    "X_test = test_data.data.to(torch.float)\n",
    "y_test = test_data.targets"
   ]
  },
  {
   "cell_type": "markdown",
   "metadata": {},
   "source": [
    "形状  \n",
    "(データ数, 縦, 横)  \n",
    "(60000, 28, 28)"
   ]
  },
  {
   "cell_type": "code",
   "execution_count": 18,
   "metadata": {},
   "outputs": [
    {
     "data": {
      "text/plain": [
       "torch.Size([60000, 28, 28])"
      ]
     },
     "execution_count": 18,
     "metadata": {},
     "output_type": "execute_result"
    }
   ],
   "source": [
    "X_train.size()"
   ]
  },
  {
   "cell_type": "markdown",
   "metadata": {},
   "source": [
    "単一のデータを取ってくる"
   ]
  },
  {
   "cell_type": "code",
   "execution_count": 19,
   "metadata": {},
   "outputs": [
    {
     "name": "stdout",
     "output_type": "stream",
     "text": [
      "fig shape : torch.Size([1, 28, 28]), label : 5\n"
     ]
    }
   ],
   "source": [
    "fig, label = train_data[0] # 0番目のデータの入力(画像)とラベル\n",
    "print(f'fig shape : {fig.size()}, label : {label}')"
   ]
  },
  {
   "cell_type": "markdown",
   "metadata": {},
   "source": [
    "### DataLoader\n",
    "\n",
    "torchで扱える型(?)。バッチサイズからジェネレータつくってくれるみたいな。"
   ]
  },
  {
   "cell_type": "code",
   "execution_count": 20,
   "metadata": {},
   "outputs": [],
   "source": [
    "batch_size = 256\n",
    "\n",
    "train_loader = torch.utils.data.DataLoader(\n",
    "    dataset=train_data,\n",
    "    batch_size=batch_size,\n",
    "    shuffle=True)\n",
    "\n",
    "test_loader = torch.utils.data.DataLoader(\n",
    "    dataset=test_data,\n",
    "    batch_size=batch_size,\n",
    "    shuffle=False)"
   ]
  },
  {
   "cell_type": "markdown",
   "metadata": {},
   "source": [
    "\n",
    "---\n",
    "\n",
    "## 学習\n",
    "\n",
    "学習させてみよう"
   ]
  },
  {
   "cell_type": "code",
   "execution_count": 21,
   "metadata": {},
   "outputs": [
    {
     "name": "stdout",
     "output_type": "stream",
     "text": [
      "Epoch [1], train_Loss : 0.008688710117340088\n",
      "Epoch [2], train_Loss : 0.0071419483919938406\n",
      "Epoch [3], train_Loss : 0.004398243167002996\n",
      "Epoch [4], train_Loss : 0.0028802010079224906\n",
      "Epoch [5], train_Loss : 0.002257584435741107\n",
      "Epoch [6], train_Loss : 0.001936420392493407\n",
      "Epoch [7], train_Loss : 0.0017411258260409037\n",
      "Epoch [8], train_Loss : 0.0016095603187878927\n",
      "Epoch [9], train_Loss : 0.0015136996015906333\n",
      "Epoch [10], train_Loss : 0.001441659278422594\n"
     ]
    }
   ],
   "source": [
    "num_epochs = 10\n",
    "loss = run(model, train_loader, criterion, optimizer, num_epochs)"
   ]
  },
  {
   "cell_type": "code",
   "execution_count": 22,
   "metadata": {},
   "outputs": [
    {
     "data": {
      "image/png": "[encoded data removed]",
      "text/plain": [
       "<Figure size 432x288 with 1 Axes>"
      ]
     },
     "metadata": {
      "needs_background": "light"
     },
     "output_type": "display_data"
    }
   ],
   "source": [
    "plt.plot(loss);"
   ]
  },
  {
   "cell_type": "markdown",
   "metadata": {},
   "source": [
    "\n",
    "---\n",
    "\n",
    "## 予測\n",
    "\n",
    "作ったモデルで予測"
   ]
  },
  {
   "cell_type": "code",
   "execution_count": 35,
   "metadata": {},
   "outputs": [
    {
     "data": {
      "image/png": "[encoded data removed]",
      "text/plain": [
       "<Figure size 432x288 with 1 Axes>"
      ]
     },
     "metadata": {
      "needs_background": "light"
     },
     "output_type": "display_data"
    }
   ],
   "source": [
    "# datasetからサンプルを一つ取り出す\n",
    "image, label = test_data[0:3]\n",
    "image = image.view(-1, 28*28)\n",
    "\n",
    "# 推論\n",
    "prediction_label = torch.argmax(model(image))\n",
    "\n",
    "fig, ax = plt.subplots()\n",
    "ax.imshow(image.detach().numpy().reshape(28, 28), cmap='gray')\n",
    "\n",
    "ax.axis('off')\n",
    "ax.set_title(f'True Label : {label}, Prediction : {prediction_label}', fontsize=20)\n",
    "\n",
    "plt.show()"
   ]
  },
  {
   "cell_type": "code",
   "execution_count": 56,
   "metadata": {},
   "outputs": [],
   "source": [
    "images = X_test[0:3].view(-1, 28*28)"
   ]
  },
  {
   "cell_type": "code",
   "execution_count": 57,
   "metadata": {},
   "outputs": [
    {
     "data": {
      "text/plain": [
       "tensor([[  217.3472, -1267.2115,    30.1375,   631.9653,  -588.2936,  -180.9477,\n",
       "         -1619.2312,  2285.0881,  -124.3147,   975.0495],\n",
       "        [  923.3291,  -544.4913,  1714.6488,   734.6901, -1671.5690,   746.4005,\n",
       "          1091.7941, -1974.3965,   751.1757, -1490.7960],\n",
       "        [-1050.8934,  1300.3416,   369.0532,   230.5735,  -591.3170,  -237.4660,\n",
       "          -111.6042,   -24.3037,   327.5939,  -192.5440]],\n",
       "       grad_fn=<AddmmBackward0>)"
      ]
     },
     "execution_count": 57,
     "metadata": {},
     "output_type": "execute_result"
    }
   ],
   "source": [
    "model(images)"
   ]
  }
 ],
 "metadata": {
  "interpreter": {
   "hash": "a206c1e5df64df63b66699542b0c9618e721e458ad77ebcb32e657bf099f9bb2"
  },
  "kernelspec": {
   "display_name": "Python 3.9.6 ('.venv': venv)",
   "language": "python",
   "name": "python3"
  },
  "language_info": {
   "codemirror_mode": {
    "name": "ipython",
    "version": 3
   },
   "file_extension": ".py",
   "mimetype": "text/x-python",
   "name": "python",
   "nbconvert_exporter": "python",
   "pygments_lexer": "ipython3",
   "version": "3.9.6"
  },
  "orig_nbformat": 4
 },
 "nbformat": 4,
 "nbformat_minor": 2
}
