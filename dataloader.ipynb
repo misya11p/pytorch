{
 "cells": [
  {
   "cell_type": "markdown",
   "metadata": {},
   "source": [
    "# DataLoader\n",
    "\n",
    "PyTorchでミニバッチ学習を行うときに便利なクラス。"
   ]
  },
  {
   "cell_type": "code",
   "execution_count": 1,
   "metadata": {},
   "outputs": [],
   "source": [
    "import torch\n",
    "from torch.utils.data import Dataset, DataLoader"
   ]
  },
  {
   "cell_type": "markdown",
   "metadata": {},
   "source": [
    "\n",
    "---\n",
    "\n",
    "## `Dataset`\n",
    "\n",
    "DataLoaderを作るために必要なクラス。  \n",
    "扱うデータセットとその情報を記述する。\n",
    "\n",
    "PyTorch側で用意されている基底クラスを継承して作成する。"
   ]
  },
  {
   "cell_type": "code",
   "execution_count": 2,
   "metadata": {},
   "outputs": [
    {
     "data": {
      "text/plain": [
       "torch.utils.data.dataset.Dataset"
      ]
     },
     "execution_count": 2,
     "metadata": {},
     "output_type": "execute_result"
    }
   ],
   "source": [
    "Dataset"
   ]
  },
  {
   "cell_type": "markdown",
   "metadata": {},
   "source": [
    "最低限必要な特殊メソッドが2つある。\n",
    "- `__len__(self)`: データ数を返す。\n",
    "- `__getitem__(self, idx: int)`: 指定したインデックスのインスタンス（データ）を返す。"
   ]
  },
  {
   "cell_type": "markdown",
   "metadata": {},
   "source": [
    "最も簡単な例を実装してみる。"
   ]
  },
  {
   "cell_type": "code",
   "execution_count": 3,
   "metadata": {},
   "outputs": [],
   "source": [
    "class SimpleDataset(Dataset):\n",
    "    def __init__(self, data):\n",
    "        self.data = data\n",
    "\n",
    "    def __getitem__(self, idx):\n",
    "        return self.data[idx]\n",
    "\n",
    "    def __len__(self):\n",
    "        return len(self.data)"
   ]
  },
  {
   "cell_type": "markdown",
   "metadata": {},
   "source": [
    "実際に適当なデータを入れてみる。"
   ]
  },
  {
   "cell_type": "code",
   "execution_count": 4,
   "metadata": {},
   "outputs": [
    {
     "name": "stdout",
     "output_type": "stream",
     "text": [
      "num of data: 5\n",
      "index 0: 1\n",
      "index 1: 2\n",
      "index 2: 3\n",
      "index 3: 4\n",
      "index 4: 5\n"
     ]
    }
   ],
   "source": [
    "data = [1, 2, 3, 4, 5]\n",
    "dataset = SimpleDataset(data)\n",
    "n_data = len(dataset)\n",
    "print('num of data:', n_data)\n",
    "for i in range(n_data):\n",
    "    print(f'index {i}:', dataset[i])"
   ]
  },
  {
   "cell_type": "markdown",
   "metadata": {},
   "source": [
    "教師あり学習の場合は、`__getitem__`で正解も返すようにする。"
   ]
  },
  {
   "cell_type": "code",
   "execution_count": 5,
   "metadata": {},
   "outputs": [],
   "source": [
    "class SimpleDatasetWithTarget(Dataset):\n",
    "    def __init__(self, data, target):\n",
    "        self.data = data\n",
    "        self.target = target\n",
    "\n",
    "    def __getitem__(self, idx):\n",
    "        return self.data[idx], self.target[idx]\n",
    "\n",
    "    def __len__(self):\n",
    "        return len(self.data)"
   ]
  },
  {
   "cell_type": "code",
   "execution_count": 6,
   "metadata": {},
   "outputs": [
    {
     "name": "stdout",
     "output_type": "stream",
     "text": [
      "index 0: data=1, target=1\n",
      "index 1: data=2, target=4\n",
      "index 2: data=3, target=9\n",
      "index 3: data=4, target=16\n",
      "index 4: data=5, target=25\n"
     ]
    }
   ],
   "source": [
    "data = [1, 2, 3, 4, 5]\n",
    "target = [1, 4, 9, 16, 25]\n",
    "dataset = SimpleDatasetWithTarget(data, target)\n",
    "for i in range(len(dataset)):\n",
    "    x, t = dataset[i]\n",
    "    print(f'index {i}: data={x}, target={t}')"
   ]
  },
  {
   "cell_type": "markdown",
   "metadata": {},
   "source": [
    "\n",
    "---\n",
    "\n",
    "## `DataLoader`\n",
    "\n",
    "`Dataset`を元にミニバッチ学習を行うためのクラス。  \n",
    "バッチサイズ分のデータを取り出すイテレータ。"
   ]
  },
  {
   "cell_type": "code",
   "execution_count": 12,
   "metadata": {},
   "outputs": [
    {
     "name": "stdout",
     "output_type": "stream",
     "text": [
      "tensor([1, 2])\n",
      "tensor([3, 4])\n",
      "tensor([5])\n"
     ]
    }
   ],
   "source": [
    "data = [1, 2, 3, 4, 5]\n",
    "dataset = SimpleDataset(data)\n",
    "batch_size = 2\n",
    "\n",
    "dataloader = DataLoader(dataset, batch_size=batch_size)\n",
    "for x in dataloader:\n",
    "    print(x)"
   ]
  },
  {
   "cell_type": "markdown",
   "metadata": {},
   "source": [
    "\\[1, 2, 3, 4, 5]というデータからバッチサイズ2で順番にデータを取り出した。  \n",
    "取り出されたデータは自動的に`torch.Tensor`に変換される。\n",
    "\n",
    "バッチサイズのデフォルト値は1。"
   ]
  },
  {
   "cell_type": "code",
   "execution_count": 13,
   "metadata": {},
   "outputs": [
    {
     "name": "stdout",
     "output_type": "stream",
     "text": [
      "tensor([1])\n",
      "tensor([2])\n",
      "tensor([3])\n",
      "tensor([4])\n",
      "tensor([5])\n"
     ]
    }
   ],
   "source": [
    "dataloader = DataLoader(dataset)\n",
    "for x in dataloader:\n",
    "    print(x)"
   ]
  },
  {
   "cell_type": "markdown",
   "metadata": {},
   "source": [
    "`Dataset`が`__getitem__`でタプルを返す場合は`DataLoader`もタプルを返す。"
   ]
  },
  {
   "cell_type": "code",
   "execution_count": 19,
   "metadata": {},
   "outputs": [
    {
     "name": "stdout",
     "output_type": "stream",
     "text": [
      "[tensor([1]), tensor([1])]\n",
      "[tensor([2]), tensor([4])]\n",
      "[tensor([3]), tensor([9])]\n",
      "[tensor([4]), tensor([16])]\n",
      "[tensor([5]), tensor([25])]\n"
     ]
    }
   ],
   "source": [
    "dataset = SimpleDatasetWithTarget(data, target)\n",
    "dataloader = DataLoader(dataset)\n",
    "for batch in dataloader:\n",
    "    print(batch)"
   ]
  },
  {
   "cell_type": "markdown",
   "metadata": {},
   "source": [
    "（本当は`list`）"
   ]
  },
  {
   "cell_type": "code",
   "execution_count": 20,
   "metadata": {},
   "outputs": [
    {
     "data": {
      "text/plain": [
       "list"
      ]
     },
     "execution_count": 20,
     "metadata": {},
     "output_type": "execute_result"
    }
   ],
   "source": [
    "type(batch)"
   ]
  },
  {
   "cell_type": "code",
   "execution_count": null,
   "metadata": {},
   "outputs": [],
   "source": []
  }
 ],
 "metadata": {
  "kernelspec": {
   "display_name": "dl",
   "language": "python",
   "name": "python3"
  },
  "language_info": {
   "codemirror_mode": {
    "name": "ipython",
    "version": 3
   },
   "file_extension": ".py",
   "mimetype": "text/x-python",
   "name": "python",
   "nbconvert_exporter": "python",
   "pygments_lexer": "ipython3",
   "version": "3.11.2"
  },
  "orig_nbformat": 4
 },
 "nbformat": 4,
 "nbformat_minor": 2
}
