{
 "cells": [
  {
   "attachments": {},
   "cell_type": "markdown",
   "metadata": {},
   "source": [
    "# 自動微分\n",
    "\n",
    "自動微分についてちゃんとまとめる。"
   ]
  },
  {
   "cell_type": "code",
   "execution_count": 1,
   "metadata": {},
   "outputs": [],
   "source": [
    "import torch"
   ]
  },
  {
   "attachments": {},
   "cell_type": "markdown",
   "metadata": {},
   "source": [
    "\n",
    "---\n",
    "\n",
    "## `requires_grad`"
   ]
  },
  {
   "attachments": {},
   "cell_type": "markdown",
   "metadata": {},
   "source": [
    "PyTorchでは、`torch.Tensor`(以下tensorと呼ぶ)の演算に対して計算グラフを構築することで、自動微分をサポートしている。\n",
    "\n",
    "tensorは`requires_grad`という`bool`型の属性を持っており、これが`True`の場合、そのtensorを用いた演算が計算グラフに追加される。`False`の場合は追加されない。微分が必要ないと分かっている場合は`False`にしてメモリを節約した方が良い。VRAMは貴重。  \n",
    "`requires_grad`はデフォルトで`False`になっている。"
   ]
  },
  {
   "cell_type": "code",
   "execution_count": 2,
   "metadata": {},
   "outputs": [
    {
     "data": {
      "text/plain": [
       "False"
      ]
     },
     "execution_count": 2,
     "metadata": {},
     "output_type": "execute_result"
    }
   ],
   "source": [
    "x1 = torch.tensor([0.1, 0.2, 0.3])\n",
    "x1.requires_grad"
   ]
  },
  {
   "attachments": {},
   "cell_type": "markdown",
   "metadata": {},
   "source": [
    "`True`にしたかったら初期化時に引数に渡す。"
   ]
  },
  {
   "cell_type": "code",
   "execution_count": 3,
   "metadata": {},
   "outputs": [
    {
     "data": {
      "text/plain": [
       "True"
      ]
     },
     "execution_count": 3,
     "metadata": {},
     "output_type": "execute_result"
    }
   ],
   "source": [
    "x1 = torch.tensor([0.1, 0.2, 0.3], requires_grad=True)\n",
    "x1.requires_grad"
   ]
  },
  {
   "attachments": {},
   "cell_type": "markdown",
   "metadata": {},
   "source": [
    "後から変更することもできる。"
   ]
  },
  {
   "cell_type": "code",
   "execution_count": 4,
   "metadata": {},
   "outputs": [
    {
     "data": {
      "text/plain": [
       "False"
      ]
     },
     "execution_count": 4,
     "metadata": {},
     "output_type": "execute_result"
    }
   ],
   "source": [
    "x1.requires_grad = False\n",
    "x1.requires_grad"
   ]
  },
  {
   "attachments": {},
   "cell_type": "markdown",
   "metadata": {},
   "source": [
    "こんなメソッドもある。"
   ]
  },
  {
   "cell_type": "code",
   "execution_count": 5,
   "metadata": {},
   "outputs": [
    {
     "data": {
      "text/plain": [
       "True"
      ]
     },
     "execution_count": 5,
     "metadata": {},
     "output_type": "execute_result"
    }
   ],
   "source": [
    "x1.requires_grad_(True) # デフォルト: True\n",
    "x1.requires_grad"
   ]
  },
  {
   "attachments": {},
   "cell_type": "markdown",
   "metadata": {},
   "source": [
    "`float`じゃないとダメ"
   ]
  },
  {
   "cell_type": "code",
   "execution_count": 6,
   "metadata": {},
   "outputs": [
    {
     "name": "stdout",
     "output_type": "stream",
     "text": [
      "Only Tensors of floating point and complex dtype can require gradients\n"
     ]
    }
   ],
   "source": [
    "try:\n",
    "    x1 = torch.tensor([1, 2, 3], requires_grad=True)\n",
    "except Exception as e:\n",
    "    print(e)"
   ]
  },
  {
   "attachments": {},
   "cell_type": "markdown",
   "metadata": {},
   "source": [
    "演算によって作られた新たなtensorの`requires_grad`は、演算に関わったtensorの`requires_grad`に依存する。演算に関わったtensorの中に`requires_grad`が`True`のものが1つでもあれば、新たなtensorの`requires_grad`は`True`になる。"
   ]
  },
  {
   "cell_type": "code",
   "execution_count": 7,
   "metadata": {},
   "outputs": [
    {
     "name": "stdout",
     "output_type": "stream",
     "text": [
      "True\n",
      "False\n",
      "True\n"
     ]
    }
   ],
   "source": [
    "x1 = torch.tensor([0.1, 0.2, 0.3], requires_grad=True)\n",
    "x2 = torch.tensor([0.4, 0.5, 0.6], requires_grad=False)\n",
    "\n",
    "z1 = x1 * 2\n",
    "print(z1.requires_grad) # True\n",
    "\n",
    "z2 = x2 * 2\n",
    "print(z2.requires_grad) # False\n",
    "\n",
    "z3 = x1 * x2\n",
    "print(z3.requires_grad) # True"
   ]
  },
  {
   "attachments": {},
   "cell_type": "markdown",
   "metadata": {},
   "source": [
    "\n",
    "---\n",
    "\n",
    "## leaf\n",
    "\n",
    "計算グラフの末端にあるtensorをPyTorchの世界ではleaf tensorと呼ぶ。文字通り葉をイメージすると良い。\n",
    "\n",
    "`torch.tensor()`によって作られたtensorは必ずleafなる。`Dataloader`から得られたtensorもleafになる。なんらかのtensorを組み合わせてできたtensorはleafにならない。  \n",
    "tensorがleafかどうかは`is_leaf`で確認できる。"
   ]
  },
  {
   "cell_type": "code",
   "execution_count": 8,
   "metadata": {},
   "outputs": [
    {
     "name": "stdout",
     "output_type": "stream",
     "text": [
      "True\n",
      "True\n",
      "False\n"
     ]
    }
   ],
   "source": [
    "x1 = torch.tensor([0.1, 0.2, 0.3], requires_grad=True)\n",
    "x2 = torch.tensor([0.4, 0.5, 0.6], requires_grad=False)\n",
    "z = x1 * x2\n",
    "\n",
    "print(x1.is_leaf)\n",
    "print(x2.is_leaf)\n",
    "print(z1.is_leaf)"
   ]
  },
  {
   "attachments": {},
   "cell_type": "markdown",
   "metadata": {},
   "source": [
    "この属性は変更できない"
   ]
  },
  {
   "cell_type": "code",
   "execution_count": 9,
   "metadata": {},
   "outputs": [
    {
     "name": "stdout",
     "output_type": "stream",
     "text": [
      "attribute 'is_leaf' of 'torch._C._TensorBase' objects is not writable\n"
     ]
    }
   ],
   "source": [
    "x1 = torch.tensor([0.1, 0.2, 0.3], requires_grad=True)\n",
    "try:\n",
    "    x1.is_leaf = False\n",
    "except Exception as e:\n",
    "    print(e)"
   ]
  },
  {
   "attachments": {},
   "cell_type": "markdown",
   "metadata": {},
   "source": [
    "leafでないtensorは`requires_grad`を変更できない"
   ]
  },
  {
   "cell_type": "code",
   "execution_count": 10,
   "metadata": {},
   "outputs": [
    {
     "name": "stdout",
     "output_type": "stream",
     "text": [
      "you can only change requires_grad flags of leaf variables.\n"
     ]
    }
   ],
   "source": [
    "x1 = torch.tensor([0.1, 0.2, 0.3], requires_grad=True)\n",
    "x2 = torch.tensor([0.4, 0.5, 0.6], requires_grad=False)\n",
    "z = x1 * x2\n",
    "try:\n",
    "    z.requires_grad = True\n",
    "except Exception as e:\n",
    "    print(e)"
   ]
  },
  {
   "attachments": {},
   "cell_type": "markdown",
   "metadata": {},
   "source": [
    "leaf（&`requires_grad`が`True`の）tensorはインプレースの操作ができない"
   ]
  },
  {
   "cell_type": "code",
   "execution_count": 11,
   "metadata": {},
   "outputs": [
    {
     "name": "stdout",
     "output_type": "stream",
     "text": [
      "a leaf Variable that requires grad is being used in an in-place operation.\n"
     ]
    }
   ],
   "source": [
    "x1 = torch.tensor([0.1, 0.2, 0.3], requires_grad=True)\n",
    "try:\n",
    "    x1.add_(1)\n",
    "except Exception as e:\n",
    "    print(e)"
   ]
  },
  {
   "attachments": {},
   "cell_type": "markdown",
   "metadata": {},
   "source": [
    "`Tensor.data`をインプレースで操作するという方法もある。ただ、そもそも`Tensor.data`を使うことが非推奨とか言われているので、やめた方が良いかも。\n",
    "\n",
    "- [The difference between torch.tensor.data and torch.tensor - autograd - PyTorch Forums](https://discuss.pytorch.org/t/the-difference-between-torch-tensor-data-and-torch-tensor/25995)"
   ]
  },
  {
   "cell_type": "code",
   "execution_count": 12,
   "metadata": {},
   "outputs": [
    {
     "name": "stdout",
     "output_type": "stream",
     "text": [
      "tensor([1.1000, 1.2000, 1.3000], requires_grad=True)\n",
      "True\n"
     ]
    }
   ],
   "source": [
    "x1 = torch.tensor([0.1, 0.2, 0.3], requires_grad=True)\n",
    "x1.data.add_(1)\n",
    "print(x1)\n",
    "print(x1.is_leaf)"
   ]
  },
  {
   "attachments": {},
   "cell_type": "markdown",
   "metadata": {},
   "source": [
    "以下のように値を変更することはできるが、leaf tensorではなくなる。"
   ]
  },
  {
   "cell_type": "code",
   "execution_count": 13,
   "metadata": {},
   "outputs": [
    {
     "name": "stdout",
     "output_type": "stream",
     "text": [
      "False\n"
     ]
    }
   ],
   "source": [
    "x1 = torch.tensor([0.1, 0.2, 0.3], requires_grad=True)\n",
    "x1 = x1 + 1\n",
    "print(x1.is_leaf)"
   ]
  },
  {
   "attachments": {},
   "cell_type": "markdown",
   "metadata": {},
   "source": [
    "leafでないtensorは、そのtensorがどのような演算によって作られたかを`grad_fn`属性に記録している。これによって微分が可能となっている。"
   ]
  },
  {
   "cell_type": "code",
   "execution_count": 14,
   "metadata": {},
   "outputs": [
    {
     "name": "stdout",
     "output_type": "stream",
     "text": [
      "None\n",
      "<MulBackward0 object at 0x103eb6500>\n"
     ]
    }
   ],
   "source": [
    "x1 = torch.tensor([0.1, 0.2, 0.3], requires_grad=True)\n",
    "z = x1 * 2\n",
    "print(x1.grad_fn) # leafにはない\n",
    "print(z.grad_fn)"
   ]
  },
  {
   "attachments": {},
   "cell_type": "markdown",
   "metadata": {},
   "source": [
    "\n",
    "---\n",
    "\n",
    "## `backward()`\n",
    "\n",
    "微分を行うメソッド。\n",
    "\n",
    "`backward()`を呼び出すと、そのtensorから計算グラフを遡り（逆伝播）、結果を各tensorの`grad`属性に格納する。  \n",
    "別の言い方をすると、そのtensorに関わった全てのtensorで偏微分を行い、結果を各tensorの`grad`属性に格納する。"
   ]
  },
  {
   "cell_type": "code",
   "execution_count": 15,
   "metadata": {},
   "outputs": [
    {
     "name": "stdout",
     "output_type": "stream",
     "text": [
      "tensor(5.)\n",
      "None\n"
     ]
    }
   ],
   "source": [
    "x1 = torch.tensor(2., requires_grad=True)\n",
    "x2 = torch.tensor(5., requires_grad=False)\n",
    "z = x1 * x2\n",
    "z.backward()\n",
    "print(x1.grad)\n",
    "print(x2.grad)"
   ]
  },
  {
   "attachments": {},
   "cell_type": "markdown",
   "metadata": {},
   "source": [
    "$$\n",
    "x_1 = 2, x_2 = 5 \\\\\n",
    "z = x_1x_2 \\\\\n",
    "\\frac{\\partial z}{\\partial x_1} = x_2 = 5 \\\\\n",
    "$$\n",
    "\n",
    "なので、`x1.grad`は5になる。`x2`は`requires_grad`が`False`なのでそもそも勾配を計算しない。  \n",
    "また、`requires_grad`が`True`でもleafでなけれは勾配を保持しない。"
   ]
  },
  {
   "cell_type": "code",
   "execution_count": 16,
   "metadata": {},
   "outputs": [
    {
     "name": "stdout",
     "output_type": "stream",
     "text": [
      "True\n",
      "None\n"
     ]
    },
    {
     "name": "stderr",
     "output_type": "stream",
     "text": [
      "/var/folders/0y/_tn5hh9d467bqcgqcmqkdzx80000gn/T/ipykernel_66832/1609925498.py:2: UserWarning: The .grad attribute of a Tensor that is not a leaf Tensor is being accessed. Its .grad attribute won't be populated during autograd.backward(). If you indeed want the .grad field to be populated for a non-leaf Tensor, use .retain_grad() on the non-leaf Tensor. If you access the non-leaf Tensor by mistake, make sure you access the leaf Tensor instead. See github.com/pytorch/pytorch/pull/30531 for more informations. (Triggered internally at /Users/runner/work/pytorch/pytorch/pytorch/build/aten/src/ATen/core/TensorBody.h:491.)\n",
      "  print(z.grad)\n"
     ]
    }
   ],
   "source": [
    "print(z.requires_grad)\n",
    "print(z.grad)"
   ]
  },
  {
   "attachments": {},
   "cell_type": "markdown",
   "metadata": {},
   "source": [
    "`retain_grad()`を呼び出すとleafでなくても勾配を保持するようになる。"
   ]
  },
  {
   "cell_type": "code",
   "execution_count": 17,
   "metadata": {},
   "outputs": [
    {
     "name": "stdout",
     "output_type": "stream",
     "text": [
      "tensor(1.)\n"
     ]
    }
   ],
   "source": [
    "x1 = torch.tensor(2., requires_grad=True)\n",
    "x2 = torch.tensor(5., requires_grad=False)\n",
    "z = x1 * x2\n",
    "z.retain_grad()\n",
    "z.backward()\n",
    "print(z.grad)"
   ]
  },
  {
   "attachments": {},
   "cell_type": "markdown",
   "metadata": {},
   "source": [
    "`backward()`にスカラーを渡すと、その値から逆伝播が始まる。"
   ]
  },
  {
   "cell_type": "code",
   "execution_count": 18,
   "metadata": {},
   "outputs": [
    {
     "name": "stdout",
     "output_type": "stream",
     "text": [
      "tensor(3.)\n"
     ]
    }
   ],
   "source": [
    "x1 = torch.tensor(2., requires_grad=True)\n",
    "x2 = torch.tensor(5., requires_grad=False)\n",
    "z = x1 * x2\n",
    "z.retain_grad()\n",
    "z.backward(torch.tensor(3.))\n",
    "print(z.grad)"
   ]
  },
  {
   "attachments": {},
   "cell_type": "markdown",
   "metadata": {},
   "source": [
    "tensorはスカラーでなくても良い。"
   ]
  },
  {
   "cell_type": "code",
   "execution_count": 19,
   "metadata": {},
   "outputs": [
    {
     "name": "stdout",
     "output_type": "stream",
     "text": [
      "tensor([2., 2., 2.])\n"
     ]
    }
   ],
   "source": [
    "x1 = torch.tensor([0.1, 0.2, 0.3], requires_grad=True)\n",
    "z = (x1 * 2).sum()\n",
    "z.backward()\n",
    "print(x1.grad)"
   ]
  },
  {
   "attachments": {},
   "cell_type": "markdown",
   "metadata": {},
   "source": [
    "ただし`backward()`はスカラーに対してしか使えない。"
   ]
  },
  {
   "cell_type": "code",
   "execution_count": 20,
   "metadata": {},
   "outputs": [
    {
     "name": "stdout",
     "output_type": "stream",
     "text": [
      "tensor([0.2000, 0.4000, 0.6000], grad_fn=<MulBackward0>)\n",
      "grad can be implicitly created only for scalar outputs\n"
     ]
    }
   ],
   "source": [
    "x1 = torch.tensor([0.1, 0.2, 0.3], requires_grad=True)\n",
    "z = x1 * 2\n",
    "print(z)\n",
    "try:\n",
    "    z.backward()\n",
    "except Exception as e:\n",
    "    print(e)"
   ]
  },
  {
   "attachments": {},
   "cell_type": "markdown",
   "metadata": {},
   "source": [
    "`backward()`を呼び出すと計算グラフが破壊されるので、2回目の`backward()`はできない。"
   ]
  },
  {
   "cell_type": "code",
   "execution_count": 21,
   "metadata": {},
   "outputs": [
    {
     "name": "stdout",
     "output_type": "stream",
     "text": [
      "Trying to backward through the graph a second time (or directly access saved tensors after they have already been freed). Saved intermediate values of the graph are freed when you call .backward() or autograd.grad(). Specify retain_graph=True if you need to backward through the graph a second time or if you need to access saved tensors after calling backward.\n"
     ]
    }
   ],
   "source": [
    "x1 = torch.tensor([0.1, 0.2, 0.3], requires_grad=True)\n",
    "z = (x1 * 2).sum()\n",
    "z.backward() # 1回目\n",
    "try:\n",
    "    z.backward() # 2回目\n",
    "except Exception as e:\n",
    "    print(e)"
   ]
  },
  {
   "attachments": {},
   "cell_type": "markdown",
   "metadata": {},
   "source": [
    "`retain_graph=True`を指定すると計算グラフが保持されるので、その次の`backward()`が通る。  \n",
    "複数回逆伝播を行うと`grad`は加算される。"
   ]
  },
  {
   "cell_type": "code",
   "execution_count": 22,
   "metadata": {},
   "outputs": [
    {
     "name": "stdout",
     "output_type": "stream",
     "text": [
      "tensor([20., 20., 20.])\n"
     ]
    }
   ],
   "source": [
    "x1 = torch.tensor([0.1, 0.2, 0.3], requires_grad=True)\n",
    "z = (x1 * 2).sum()\n",
    "for _ in range(10):\n",
    "    z.backward(retain_graph=True)\n",
    "print(x1.grad)"
   ]
  },
  {
   "attachments": {},
   "cell_type": "markdown",
   "metadata": {},
   "source": [
    "グラフ内のtensorが変更されてもグラフは変わらないのでグラフが作られた時の値で逆伝播が行われる。"
   ]
  },
  {
   "cell_type": "code",
   "execution_count": 23,
   "metadata": {},
   "outputs": [
    {
     "name": "stdout",
     "output_type": "stream",
     "text": [
      "tensor([2., 2., 2.])\n"
     ]
    }
   ],
   "source": [
    "x1 = torch.tensor([0.1, 0.2, 0.3], requires_grad=True)\n",
    "x2 = torch.tensor(2.)\n",
    "z = (x1 * x2).sum()\n",
    "x2 = \"hoge\"\n",
    "z.backward()\n",
    "print(x1.grad)"
   ]
  },
  {
   "attachments": {},
   "cell_type": "markdown",
   "metadata": {},
   "source": [
    "グラフ内のtensorがインプレースで変更されると微分ができなくなる。"
   ]
  },
  {
   "cell_type": "code",
   "execution_count": 24,
   "metadata": {},
   "outputs": [
    {
     "name": "stdout",
     "output_type": "stream",
     "text": [
      "one of the variables needed for gradient computation has been modified by an inplace operation: [torch.FloatTensor []] is at version 1; expected version 0 instead. Hint: enable anomaly detection to find the operation that failed to compute its gradient, with torch.autograd.set_detect_anomaly(True).\n"
     ]
    }
   ],
   "source": [
    "x1 = torch.tensor([0.1, 0.2, 0.3], requires_grad=True)\n",
    "x2 = torch.tensor(2.)\n",
    "z = (x1 * x2).sum()\n",
    "x2.add_(1) # in-placeでの変更\n",
    "try:\n",
    "    z.backward()\n",
    "except Exception as e:\n",
    "    print(e)"
   ]
  },
  {
   "attachments": {},
   "cell_type": "markdown",
   "metadata": {},
   "source": [
    "\n",
    "---\n",
    "\n",
    "## `detach()`\n",
    "\n",
    "計算グラフから切り離したtensorを作成するメソッド。  \n",
    "このtensorには勾配が流れ込まなくなる。`requires_grad`も`False`になる。"
   ]
  },
  {
   "cell_type": "code",
   "execution_count": 25,
   "metadata": {},
   "outputs": [],
   "source": [
    "x1 = torch.tensor([0.1, 0.2, 0.3], requires_grad=True)\n",
    "z = (x1 * 2).sum()\n",
    "\n",
    "x1_detached = x1.detach()\n",
    "z.backward()"
   ]
  },
  {
   "cell_type": "code",
   "execution_count": 26,
   "metadata": {},
   "outputs": [
    {
     "name": "stdout",
     "output_type": "stream",
     "text": [
      "tensor([0.1000, 0.2000, 0.3000], requires_grad=True)\n",
      "tensor([2., 2., 2.])\n"
     ]
    }
   ],
   "source": [
    "print(x1)\n",
    "print(x1.grad)"
   ]
  },
  {
   "cell_type": "code",
   "execution_count": 27,
   "metadata": {},
   "outputs": [
    {
     "name": "stdout",
     "output_type": "stream",
     "text": [
      "tensor([0.1000, 0.2000, 0.3000])\n",
      "None\n"
     ]
    }
   ],
   "source": [
    "print(x1_detached)\n",
    "print(x1_detached.grad)"
   ]
  },
  {
   "attachments": {},
   "cell_type": "markdown",
   "metadata": {},
   "source": [
    "勾配も消える。"
   ]
  },
  {
   "cell_type": "code",
   "execution_count": 28,
   "metadata": {},
   "outputs": [
    {
     "name": "stdout",
     "output_type": "stream",
     "text": [
      "tensor([2., 2., 2.])\n",
      "None\n"
     ]
    }
   ],
   "source": [
    "x1 = torch.tensor([0.1, 0.2, 0.3], requires_grad=True)\n",
    "z = (x1 * 2).sum()\n",
    "z.backward()\n",
    "print(x1.grad)\n",
    "print(x1.detach().grad)"
   ]
  },
  {
   "attachments": {},
   "cell_type": "markdown",
   "metadata": {},
   "source": [
    "`detach()`の場合はグラフ内のtensorをインプレースで操作しても逆伝播が通る。"
   ]
  },
  {
   "cell_type": "code",
   "execution_count": 29,
   "metadata": {},
   "outputs": [
    {
     "name": "stdout",
     "output_type": "stream",
     "text": [
      "tensor([2., 2., 2.])\n"
     ]
    }
   ],
   "source": [
    "x1 = torch.tensor([0.1, 0.2, 0.3], requires_grad=True)\n",
    "x2 = torch.tensor(2.)\n",
    "z = (x1 * x2).sum()\n",
    "x2.detach_()\n",
    "z.backward()\n",
    "print(x1.grad)"
   ]
  }
 ],
 "metadata": {
  "kernelspec": {
   "display_name": "dl",
   "language": "python",
   "name": "python3"
  },
  "language_info": {
   "codemirror_mode": {
    "name": "ipython",
    "version": 3
   },
   "file_extension": ".py",
   "mimetype": "text/x-python",
   "name": "python",
   "nbconvert_exporter": "python",
   "pygments_lexer": "ipython3",
   "version": "3.11.3"
  },
  "orig_nbformat": 4
 },
 "nbformat": 4,
 "nbformat_minor": 2
}
