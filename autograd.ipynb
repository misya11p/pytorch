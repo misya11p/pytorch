{
 "cells": [
  {
   "attachments": {},
   "cell_type": "markdown",
   "metadata": {},
   "source": [
    "# 自動微分\n",
    "\n",
    "自動微分についてちゃんとまとめる。"
   ]
  },
  {
   "cell_type": "code",
   "execution_count": 1,
   "metadata": {},
   "outputs": [],
   "source": [
    "import torch"
   ]
  },
  {
   "attachments": {},
   "cell_type": "markdown",
   "metadata": {},
   "source": [
    "## `requires_grad`"
   ]
  },
  {
   "attachments": {},
   "cell_type": "markdown",
   "metadata": {},
   "source": [
    "pytorchでは、`torch.Tensor`(以下tensorと呼ぶ)の演算に対して計算グラフを構築することで、自動微分をサポートしている。\n",
    "\n",
    "tensorは`requires_grad`という`bool`型の属性を持っており、これが`True`の場合、そのtensorを用いた演算が計算グラフに追加される。`False`の場合は追加されない。微分が必要ないと分かっている場合は`False`にしてメモリを節約した方が良い。VRAMは貴重。  \n",
    "`requires_grad`はデフォルトで`False`になっている。"
   ]
  },
  {
   "cell_type": "code",
   "execution_count": 2,
   "metadata": {},
   "outputs": [
    {
     "data": {
      "text/plain": [
       "False"
      ]
     },
     "execution_count": 2,
     "metadata": {},
     "output_type": "execute_result"
    }
   ],
   "source": [
    "x1 = torch.tensor([0.1, 0.2, 0.3])\n",
    "x1.requires_grad"
   ]
  },
  {
   "attachments": {},
   "cell_type": "markdown",
   "metadata": {},
   "source": [
    "`True`にしたかったら初期化時に引数に渡す。"
   ]
  },
  {
   "cell_type": "code",
   "execution_count": 3,
   "metadata": {},
   "outputs": [
    {
     "data": {
      "text/plain": [
       "True"
      ]
     },
     "execution_count": 3,
     "metadata": {},
     "output_type": "execute_result"
    }
   ],
   "source": [
    "x1 = torch.tensor([0.1, 0.2, 0.3], requires_grad=True)\n",
    "x1.requires_grad"
   ]
  },
  {
   "attachments": {},
   "cell_type": "markdown",
   "metadata": {},
   "source": [
    "後から変更することもできる。"
   ]
  },
  {
   "cell_type": "code",
   "execution_count": 4,
   "metadata": {},
   "outputs": [
    {
     "data": {
      "text/plain": [
       "False"
      ]
     },
     "execution_count": 4,
     "metadata": {},
     "output_type": "execute_result"
    }
   ],
   "source": [
    "x1.requires_grad = False\n",
    "x1.requires_grad"
   ]
  },
  {
   "attachments": {},
   "cell_type": "markdown",
   "metadata": {},
   "source": [
    "こんなメソッドもある。"
   ]
  },
  {
   "cell_type": "code",
   "execution_count": 5,
   "metadata": {},
   "outputs": [
    {
     "data": {
      "text/plain": [
       "True"
      ]
     },
     "execution_count": 5,
     "metadata": {},
     "output_type": "execute_result"
    }
   ],
   "source": [
    "x1.requires_grad_(True) # デフォルト: True\n",
    "x1.requires_grad"
   ]
  },
  {
   "attachments": {},
   "cell_type": "markdown",
   "metadata": {},
   "source": [
    "`float`じゃないとダメ"
   ]
  },
  {
   "cell_type": "code",
   "execution_count": 23,
   "metadata": {},
   "outputs": [
    {
     "name": "stdout",
     "output_type": "stream",
     "text": [
      "Only Tensors of floating point and complex dtype can require gradients\n"
     ]
    }
   ],
   "source": [
    "try:\n",
    "    x1 = torch.tensor([1, 2, 3], requires_grad=True)\n",
    "except Exception as e:\n",
    "    print(e)"
   ]
  },
  {
   "attachments": {},
   "cell_type": "markdown",
   "metadata": {},
   "source": [
    "演算によって作られた新たなtensorの`requires_grad`は、演算に関わったtensorの`requires_grad`に依存する。演算に関わったtensorの中に`requires_grad`が`True`のものが1つでもあれば、新たなtensorの`requires_grad`は`True`になる。"
   ]
  },
  {
   "cell_type": "code",
   "execution_count": 6,
   "metadata": {},
   "outputs": [
    {
     "name": "stdout",
     "output_type": "stream",
     "text": [
      "True\n",
      "False\n",
      "True\n"
     ]
    }
   ],
   "source": [
    "x1 = torch.tensor([0.1, 0.2, 0.3], requires_grad=True)\n",
    "x2 = torch.tensor([0.4, 0.5, 0.6], requires_grad=False)\n",
    "\n",
    "z1 = x1 * 2\n",
    "print(z1.requires_grad) # True\n",
    "\n",
    "z2 = x2 * 2\n",
    "print(z2.requires_grad) # False\n",
    "\n",
    "z3 = x1 * x2\n",
    "print(z3.requires_grad) # True"
   ]
  },
  {
   "attachments": {},
   "cell_type": "markdown",
   "metadata": {},
   "source": [
    "## `backward()`\n",
    "\n",
    "微分を行うメソッド。\n",
    "\n",
    "`backward()`を呼び出すと、そのtensorから計算グラフを遡り（逆伝播）、結果を各tensorの`grad`属性に格納する。  \n",
    "別の言い方をすると、そのtensorに関わった全てのtensorで変微分を行い、結果を各tensorの`grad`属性に格納する。"
   ]
  },
  {
   "cell_type": "code",
   "execution_count": 15,
   "metadata": {},
   "outputs": [
    {
     "name": "stdout",
     "output_type": "stream",
     "text": [
      "tensor(5.)\n",
      "None\n"
     ]
    }
   ],
   "source": [
    "x1 = torch.tensor(2., requires_grad=True)\n",
    "x2 = torch.tensor(5., requires_grad=False)\n",
    "z = x1 * x2\n",
    "z.backward()\n",
    "print(x1.grad)\n",
    "print(x2.grad)"
   ]
  },
  {
   "attachments": {},
   "cell_type": "markdown",
   "metadata": {},
   "source": [
    "$$\n",
    "x_1 = 2, x_2 = 5 \\\\\n",
    "z = x_1x_2 \\\\\n",
    "\\frac{\\partial z}{\\partial x_1} = x_2 = 5 \\\\\n",
    "$$\n",
    "\n",
    "なので、`x1.grad`は5になる。`x2`は`requires_grad`が`False`なのでそもそも勾配を計算しない。"
   ]
  },
  {
   "attachments": {},
   "cell_type": "markdown",
   "metadata": {},
   "source": [
    "tensorはスカラーでなくても良い。"
   ]
  },
  {
   "cell_type": "code",
   "execution_count": 17,
   "metadata": {},
   "outputs": [
    {
     "name": "stdout",
     "output_type": "stream",
     "text": [
      "tensor([2., 2., 2.])\n"
     ]
    }
   ],
   "source": [
    "x1 = torch.tensor([0.1, 0.2, 0.3], requires_grad=True)\n",
    "z = (x1 * 2).sum()\n",
    "z.backward()\n",
    "print(x1.grad)"
   ]
  },
  {
   "attachments": {},
   "cell_type": "markdown",
   "metadata": {},
   "source": [
    "ただし`backward()`はスカラーに対してしか使えない。"
   ]
  },
  {
   "cell_type": "code",
   "execution_count": 22,
   "metadata": {},
   "outputs": [
    {
     "name": "stdout",
     "output_type": "stream",
     "text": [
      "grad can be implicitly created only for scalar outputs\n"
     ]
    }
   ],
   "source": [
    "x1 = torch.tensor([0.1, 0.2, 0.3], requires_grad=True)\n",
    "z = x1 * 2\n",
    "try:\n",
    "    z.backward()\n",
    "except Exception as e:\n",
    "    print(e)"
   ]
  },
  {
   "attachments": {},
   "cell_type": "markdown",
   "metadata": {},
   "source": [
    "2回`backward()`を呼び出すと怒られる。"
   ]
  },
  {
   "cell_type": "code",
   "execution_count": 35,
   "metadata": {},
   "outputs": [
    {
     "name": "stdout",
     "output_type": "stream",
     "text": [
      "Trying to backward through the graph a second time (or directly access saved tensors after they have already been freed). Saved intermediate values of the graph are freed when you call .backward() or autograd.grad(). Specify retain_graph=True if you need to backward through the graph a second time or if you need to access saved tensors after calling backward.\n"
     ]
    }
   ],
   "source": [
    "x1 = torch.tensor([0.1, 0.2, 0.3], requires_grad=True)\n",
    "z = (x1 * 2).sum()\n",
    "z.backward() # 1回目\n",
    "try:\n",
    "    z.backward() # 2回目\n",
    "except Exception as e:\n",
    "    print(e)"
   ]
  },
  {
   "attachments": {},
   "cell_type": "markdown",
   "metadata": {},
   "source": [
    "`retain_graph=True`を指定すると、その次の`backward()`が通る。  \n",
    "複数回逆伝播を行うと`grad`は加算される。"
   ]
  },
  {
   "cell_type": "code",
   "execution_count": 39,
   "metadata": {},
   "outputs": [
    {
     "name": "stdout",
     "output_type": "stream",
     "text": [
      "tensor([20., 20., 20.])\n"
     ]
    }
   ],
   "source": [
    "x1 = torch.tensor([0.1, 0.2, 0.3], requires_grad=True)\n",
    "z = (x1 * 2).sum()\n",
    "for _ in range(10):\n",
    "    z.backward(retain_graph=True)\n",
    "print(x1.grad)"
   ]
  }
 ],
 "metadata": {
  "kernelspec": {
   "display_name": "dl",
   "language": "python",
   "name": "python3"
  },
  "language_info": {
   "codemirror_mode": {
    "name": "ipython",
    "version": 3
   },
   "file_extension": ".py",
   "mimetype": "text/x-python",
   "name": "python",
   "nbconvert_exporter": "python",
   "pygments_lexer": "ipython3",
   "version": "3.11.3"
  },
  "orig_nbformat": 4
 },
 "nbformat": 4,
 "nbformat_minor": 2
}
