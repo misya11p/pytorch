{
 "cells": [
  {
   "cell_type": "markdown",
   "metadata": {},
   "source": [
    "# pytorchを学ぶ"
   ]
  },
  {
   "cell_type": "code",
   "execution_count": 1,
   "metadata": {},
   "outputs": [],
   "source": [
    "import torch\n",
    "import numpy as np\n",
    "import matplotlib.pyplot as plt\n",
    "plt.rcParams['figure.figsize'] = (8, 4)"
   ]
  },
  {
   "cell_type": "markdown",
   "metadata": {},
   "source": [
    "\n",
    "---\n",
    "\n",
    "## `torch.Tensor`\n",
    "\n",
    "pytorchでは**データ**を`torch.Tensor`というtorch専用の型で扱う。\n",
    "`numpy.ndarray`と似てる。\n",
    "\n",
    "ここで指すデータには、ベクトル・行列を含めたテンソルに加えスカラーも含まれる。\n",
    "\n",
    "[torch.Tensor — PyTorch 1.11.0 documentation](https://pytorch.org/docs/stable/tensors.html)  \n",
    "\n",
    "<br>\n",
    "\n",
    "参考  \n",
    "- [【Pytorch】tensor型とは｜知らないとまずいものをまとめてみた｜努力のガリレオ](https://dreamer-uma.com/pytorch-tensor/)"
   ]
  },
  {
   "cell_type": "markdown",
   "metadata": {},
   "source": [
    "### `torch.Tensor`の生成\n",
    "\n",
    "`torch.tensor()`で生成\n",
    "\n",
    "[torch.tensor — PyTorch 1.11.0 documentation](https://pytorch.org/docs/stable/generated/torch.tensor.html)"
   ]
  },
  {
   "cell_type": "code",
   "execution_count": 2,
   "metadata": {},
   "outputs": [
    {
     "data": {
      "text/plain": [
       "tensor(1)"
      ]
     },
     "execution_count": 2,
     "metadata": {},
     "output_type": "execute_result"
    }
   ],
   "source": [
    "# スカラー\n",
    "x = torch.tensor(1)\n",
    "x"
   ]
  },
  {
   "cell_type": "code",
   "execution_count": 3,
   "metadata": {},
   "outputs": [
    {
     "data": {
      "text/plain": [
       "tensor([1, 2, 3])"
      ]
     },
     "execution_count": 3,
     "metadata": {},
     "output_type": "execute_result"
    }
   ],
   "source": [
    "# ベクトル\n",
    "x = torch.tensor([1, 2, 3])\n",
    "x"
   ]
  },
  {
   "cell_type": "code",
   "execution_count": 4,
   "metadata": {},
   "outputs": [
    {
     "data": {
      "text/plain": [
       "tensor([[1, 2, 3],\n",
       "        [4, 5, 6],\n",
       "        [7, 8, 9]])"
      ]
     },
     "execution_count": 4,
     "metadata": {},
     "output_type": "execute_result"
    }
   ],
   "source": [
    "# 行列\n",
    "x = torch.tensor([\n",
    "    [1, 2, 3],\n",
    "    [4, 5, 6],\n",
    "    [7, 8, 9]\n",
    "])\n",
    "x"
   ]
  },
  {
   "cell_type": "markdown",
   "metadata": {},
   "source": [
    "#### 型指定\n",
    "\n",
    "型が違うと演算時にエラーを吐くことがあるので注意。"
   ]
  },
  {
   "cell_type": "markdown",
   "metadata": {},
   "source": [
    "##### 引数で指定\n",
    "\n",
    "`dtype=`"
   ]
  },
  {
   "cell_type": "code",
   "execution_count": 5,
   "metadata": {},
   "outputs": [
    {
     "data": {
      "text/plain": [
       "tensor([1., 2., 3.], dtype=torch.float64)"
      ]
     },
     "execution_count": 5,
     "metadata": {},
     "output_type": "execute_result"
    }
   ],
   "source": [
    "torch.tensor([1, 2, 3], dtype=float)"
   ]
  },
  {
   "cell_type": "markdown",
   "metadata": {},
   "source": [
    "##### 関数を使用\n",
    "\n",
    "- `torch.LongTensor()`\n",
    "- `torch.FloatTensor()`"
   ]
  },
  {
   "cell_type": "code",
   "execution_count": 6,
   "metadata": {},
   "outputs": [
    {
     "name": "stdout",
     "output_type": "stream",
     "text": [
      "tensor([1, 2, 3])\n",
      "tensor([1., 2., 3.])\n"
     ]
    }
   ],
   "source": [
    "print(torch.LongTensor([1, 2, 3])) # int型\n",
    "print(torch.FloatTensor([1, 2, 3])) # float型"
   ]
  },
  {
   "attachments": {},
   "cell_type": "markdown",
   "metadata": {},
   "source": [
    "### メソッド\n",
    "\n",
    "基本的なメソッドがnumpyと同じように用意されている。"
   ]
  },
  {
   "cell_type": "code",
   "execution_count": 9,
   "metadata": {},
   "outputs": [
    {
     "name": "stdout",
     "output_type": "stream",
     "text": [
      "sum: tensor(6.)\n",
      "mean: tensor(2.)\n",
      "std: tensor(1.)\n",
      "max: tensor(3.)\n",
      "log: tensor([0.0000, 0.6931, 1.0986])\n",
      "exp: tensor([ 2.7183,  7.3891, 20.0855])\n"
     ]
    }
   ],
   "source": [
    "x = torch.tensor([1., 2., 3.])\n",
    "\n",
    "print(\"sum:\", x.sum())\n",
    "print(\"mean:\", x.mean())\n",
    "print(\"std:\", x.std())\n",
    "print(\"max:\", x.max())\n",
    "print(\"log:\", x.log())\n",
    "print(\"exp:\", x.exp())"
   ]
  },
  {
   "attachments": {},
   "cell_type": "markdown",
   "metadata": {},
   "source": [
    "他にもたくさんある。当然、`torch.メソッド(x)`のような使い方もできる。\n",
    "\n",
    "また後ろに`_`をつけるとインプレースになる。"
   ]
  },
  {
   "cell_type": "code",
   "execution_count": 10,
   "metadata": {},
   "outputs": [
    {
     "name": "stdout",
     "output_type": "stream",
     "text": [
      "tensor([1., 2., 3.])\n",
      "tensor([0.0000, 0.6931, 1.0986])\n"
     ]
    }
   ],
   "source": [
    "print(x)\n",
    "x.log_()\n",
    "print(x)"
   ]
  },
  {
   "cell_type": "markdown",
   "metadata": {},
   "source": [
    "### 自動微分\n",
    "\n",
    "勾配を自動で求めてくれる。\n",
    "\n",
    "例えば、\n",
    "\n",
    "$$\n",
    "y = x_1^2 + x_2^2\n",
    "$$\n",
    "\n",
    "で、$x_1=3$、$x_2=-3$ の時\n",
    "\n",
    "<br>\n",
    "\n",
    "まずTensorを生成する。この時 `requires_grad=True` を指定する。あと `dtype` は `float` になる様にする。"
   ]
  },
  {
   "cell_type": "code",
   "execution_count": 44,
   "metadata": {},
   "outputs": [
    {
     "data": {
      "text/plain": [
       "tensor(18., dtype=torch.float64, grad_fn=<AddBackward0>)"
      ]
     },
     "execution_count": 44,
     "metadata": {},
     "output_type": "execute_result"
    }
   ],
   "source": [
    "x1 = torch.tensor(3, dtype=float, requires_grad=True)\n",
    "x2 = torch.tensor(-3, dtype=float, requires_grad=True)\n",
    "y = x1**2 + x2**2\n",
    "y"
   ]
  },
  {
   "cell_type": "markdown",
   "metadata": {},
   "source": [
    "`.backward()` で逆伝播"
   ]
  },
  {
   "cell_type": "code",
   "execution_count": 45,
   "metadata": {},
   "outputs": [],
   "source": [
    "y.backward()"
   ]
  },
  {
   "cell_type": "markdown",
   "metadata": {},
   "source": [
    "こうすると、$x_1$、$x_2$ に逆伝播の値が保存される。"
   ]
  },
  {
   "cell_type": "code",
   "execution_count": 46,
   "metadata": {},
   "outputs": [
    {
     "data": {
      "text/plain": [
       "tensor(6., dtype=torch.float64)"
      ]
     },
     "execution_count": 46,
     "metadata": {},
     "output_type": "execute_result"
    }
   ],
   "source": [
    "x1.grad"
   ]
  },
  {
   "cell_type": "code",
   "execution_count": 47,
   "metadata": {},
   "outputs": [
    {
     "data": {
      "text/plain": [
       "tensor(-6., dtype=torch.float64)"
      ]
     },
     "execution_count": 47,
     "metadata": {},
     "output_type": "execute_result"
    }
   ],
   "source": [
    "x2.grad"
   ]
  },
  {
   "cell_type": "markdown",
   "metadata": {},
   "source": [
    "$$\n",
    "\\frac{\\partial y}{\\partial x_1} = 2x_1\n",
    "$$\n",
    "\n",
    "$$\n",
    "\\frac{\\partial y}{\\partial x_2} = 2x_2\n",
    "$$\n",
    "\n",
    "なので正解。すげー。\n",
    "\n",
    "まとめてもいける。"
   ]
  },
  {
   "cell_type": "code",
   "execution_count": 48,
   "metadata": {},
   "outputs": [
    {
     "data": {
      "text/plain": [
       "tensor([ 6., -6.], dtype=torch.float64)"
      ]
     },
     "execution_count": 48,
     "metadata": {},
     "output_type": "execute_result"
    }
   ],
   "source": [
    "x = torch.tensor([3, -3], dtype=float, requires_grad=True)\n",
    "y = (x**2).sum()\n",
    "y.backward()\n",
    "x.grad"
   ]
  },
  {
   "cell_type": "markdown",
   "metadata": {},
   "source": [
    "\n",
    "---\n",
    "\n",
    "## ネットワーク構築\n",
    "\n"
   ]
  },
  {
   "cell_type": "markdown",
   "metadata": {},
   "source": [
    "### `torch.nn`\n",
    "\n",
    "NNで使う基本的なものがいっぱい入っている。  \n",
    "\n",
    "- レイヤー\n",
    "- 活性化関数\n",
    "- 損失関数\n",
    "\n",
    "など\n",
    "\n",
    "[torch.nn — PyTorch 1.11.0 documentation](https://pytorch.org/docs/stable/nn.html)\n",
    "\n",
    "<br>\n",
    "\n",
    "関数系はここからも使える\n",
    "\n",
    "[torch.nn.functional — PyTorch 1.11.0 documentation](https://pytorch.org/docs/stable/nn.functional.html#)  "
   ]
  },
  {
   "cell_type": "code",
   "execution_count": 49,
   "metadata": {},
   "outputs": [],
   "source": [
    "from torch import nn"
   ]
  },
  {
   "cell_type": "markdown",
   "metadata": {},
   "source": [
    "### `torch.nn.Module`\n",
    "\n",
    "すべてのニューラルネットワークモジュールの基本クラス。これを継承してネットワークを構築していく。\n",
    "\n",
    "[Module — PyTorch 1.11.0 documentation](https://pytorch.org/docs/stable/generated/torch.nn.Module.html#torch.nn.Module)"
   ]
  },
  {
   "cell_type": "code",
   "execution_count": 50,
   "metadata": {},
   "outputs": [],
   "source": [
    "class NeuralNetwork(nn.Module):\n",
    "    def __init__(self):\n",
    "        super().__init__()"
   ]
  },
  {
   "cell_type": "markdown",
   "metadata": {},
   "source": [
    "### `torch.nn.Linear`\n",
    "\n",
    "レイヤー。全結合層。kerasでいうDense。  \n",
    "入力と出力の数を与える。\n",
    "\n",
    "[Linear — PyTorch 1.11.0 documentation](https://pytorch.org/docs/stable/generated/torch.nn.Linear.html#torch.nn.Linear)"
   ]
  },
  {
   "cell_type": "code",
   "execution_count": 136,
   "metadata": {},
   "outputs": [],
   "source": [
    "input_size, output_size = 10, 2\n",
    "layer = nn.Linear(input_size, output_size)"
   ]
  },
  {
   "cell_type": "markdown",
   "metadata": {},
   "source": [
    "レイヤーに`(batch_size, input_size)`のTensorを入力"
   ]
  },
  {
   "cell_type": "code",
   "execution_count": 139,
   "metadata": {},
   "outputs": [
    {
     "data": {
      "text/plain": [
       "tensor([[ 3.0191,  3.2601],\n",
       "        [ 9.3899,  7.1729],\n",
       "        [15.7608, 11.0856]], grad_fn=<AddmmBackward0>)"
      ]
     },
     "execution_count": 139,
     "metadata": {},
     "output_type": "execute_result"
    }
   ],
   "source": [
    "x = torch.arange(30, dtype=torch.float32).reshape(3, -1)\n",
    "y = layer(x)\n",
    "y"
   ]
  },
  {
   "cell_type": "markdown",
   "metadata": {},
   "source": [
    "1次元のベクトルでも化"
   ]
  },
  {
   "cell_type": "code",
   "execution_count": 140,
   "metadata": {},
   "outputs": [
    {
     "data": {
      "text/plain": [
       "tensor([3.0191, 3.2601], grad_fn=<AddBackward0>)"
      ]
     },
     "execution_count": 140,
     "metadata": {},
     "output_type": "execute_result"
    }
   ],
   "source": [
    "x = torch.arange(10, dtype=torch.float32)\n",
    "y = layer(x)\n",
    "y"
   ]
  },
  {
   "cell_type": "markdown",
   "metadata": {},
   "source": [
    "使われているパラメータは`.parameters()`で確認できる。"
   ]
  },
  {
   "cell_type": "code",
   "execution_count": 53,
   "metadata": {},
   "outputs": [
    {
     "data": {
      "text/plain": [
       "[Parameter containing:\n",
       " tensor([[ 0.0657, -0.0261, -0.1822,  0.2825, -0.1815,  0.2818,  0.0826, -0.0173,\n",
       "           0.2875,  0.0155],\n",
       "         [ 0.0124,  0.1381,  0.0906, -0.2981, -0.1240,  0.1213, -0.1889, -0.0923,\n",
       "          -0.3127, -0.1823]], requires_grad=True),\n",
       " Parameter containing:\n",
       " tensor([ 0.2850, -0.1712], requires_grad=True)]"
      ]
     },
     "execution_count": 53,
     "metadata": {},
     "output_type": "execute_result"
    }
   ],
   "source": [
    "list(layer.parameters())"
   ]
  },
  {
   "cell_type": "markdown",
   "metadata": {},
   "source": [
    "ニューラルネットワークにレイヤーを追加\n",
    "\n",
    "今回は2層"
   ]
  },
  {
   "cell_type": "code",
   "execution_count": 54,
   "metadata": {},
   "outputs": [],
   "source": [
    "input_size, hidden_size, output_size = 10, 5, 1\n",
    "\n",
    "class NeuralNetwork(nn.Module):\n",
    "    def __init__(self):\n",
    "        super().__init__()\n",
    "        self.l1 = nn.Linear(input_size, hidden_size)\n",
    "        self.l2 = nn.Linear(hidden_size, output_size)"
   ]
  },
  {
   "cell_type": "markdown",
   "metadata": {},
   "source": [
    "### 順伝播\n",
    "\n",
    "順伝播を定義する。"
   ]
  },
  {
   "cell_type": "code",
   "execution_count": 55,
   "metadata": {},
   "outputs": [],
   "source": [
    "class NeuralNetwork(nn.Module):\n",
    "    def __init__(self):\n",
    "        super().__init__()\n",
    "        self.l1 = nn.Linear(input_size, hidden_size)\n",
    "        self.l2 = nn.Linear(hidden_size, output_size)\n",
    "\n",
    "    def forward(self, x):\n",
    "        z = self.l1(x)\n",
    "        y = self.l2(z)\n",
    "        return y"
   ]
  },
  {
   "cell_type": "markdown",
   "metadata": {},
   "source": [
    "### 活性化関数\n",
    "\n",
    "2通りの使い方がある"
   ]
  },
  {
   "cell_type": "code",
   "execution_count": 56,
   "metadata": {},
   "outputs": [],
   "source": [
    "x = torch.Tensor([-2, -1, 0, 1, 2])"
   ]
  },
  {
   "cell_type": "code",
   "execution_count": 57,
   "metadata": {},
   "outputs": [
    {
     "data": {
      "text/plain": [
       "tensor([0., 0., 0., 1., 2.])"
      ]
     },
     "execution_count": 57,
     "metadata": {},
     "output_type": "execute_result"
    }
   ],
   "source": [
    "# 1つ目\n",
    "f = nn.ReLU()\n",
    "pre = f(x)\n",
    "pre"
   ]
  },
  {
   "cell_type": "code",
   "execution_count": 58,
   "metadata": {},
   "outputs": [
    {
     "data": {
      "text/plain": [
       "tensor([0., 0., 0., 1., 2.])"
      ]
     },
     "execution_count": 58,
     "metadata": {},
     "output_type": "execute_result"
    }
   ],
   "source": [
    "# 2つめ\n",
    "import torch.nn.functional as F\n",
    "\n",
    "pre = F.relu(x)\n",
    "pre"
   ]
  },
  {
   "cell_type": "markdown",
   "metadata": {},
   "source": [
    "順伝播に活性化関数をかける"
   ]
  },
  {
   "cell_type": "code",
   "execution_count": 59,
   "metadata": {},
   "outputs": [],
   "source": [
    "class NeuralNetwork(nn.Module):\n",
    "    def __init__(self):\n",
    "        super().__init__()\n",
    "        self.l1 = nn.Linear(input_size, hidden_size)\n",
    "        self.l2 = nn.Linear(hidden_size, output_size)\n",
    "\n",
    "    def forward(self, x):\n",
    "        z = F.relu(self.l1(x))\n",
    "        y = self.l2(z)\n",
    "        return y"
   ]
  },
  {
   "cell_type": "markdown",
   "metadata": {},
   "source": [
    "### `nn.Sequential`\n",
    "\n",
    "実はネットワークの構築方法も色々(?)ある"
   ]
  },
  {
   "cell_type": "code",
   "execution_count": 60,
   "metadata": {},
   "outputs": [],
   "source": [
    "class NeuralNetwork(nn.Module):\n",
    "    def __init__(self):\n",
    "        super().__init__()\n",
    "        self.seq_net = nn.Sequential(\n",
    "            nn.Linear(input_size, hidden_size),\n",
    "            nn.ReLU(),\n",
    "            nn.Linear(hidden_size, output_size)\n",
    "        )\n",
    "\n",
    "    def forward(self, x):\n",
    "        y = self.seq_net(x)\n",
    "        return y"
   ]
  },
  {
   "cell_type": "markdown",
   "metadata": {},
   "source": [
    "\n",
    "---\n",
    "\n",
    "## 予測\n",
    "\n",
    "とりあえず構築したモデルで予測(順伝播)を行う"
   ]
  },
  {
   "cell_type": "code",
   "execution_count": 61,
   "metadata": {},
   "outputs": [
    {
     "data": {
      "text/plain": [
       "tensor([[ 0.,  1.,  2.,  3.,  4.,  5.,  6.,  7.,  8.,  9.],\n",
       "        [10., 11., 12., 13., 14., 15., 16., 17., 18., 19.]])"
      ]
     },
     "execution_count": 61,
     "metadata": {},
     "output_type": "execute_result"
    }
   ],
   "source": [
    "import numpy as np\n",
    "arr = np.arange(20).reshape(-1, 10)\n",
    "x = torch.Tensor(arr)\n",
    "x"
   ]
  },
  {
   "cell_type": "code",
   "execution_count": 62,
   "metadata": {},
   "outputs": [
    {
     "data": {
      "text/plain": [
       "tensor([[-0.0897],\n",
       "        [-0.2032]], grad_fn=<AddmmBackward0>)"
      ]
     },
     "execution_count": 62,
     "metadata": {},
     "output_type": "execute_result"
    }
   ],
   "source": [
    "model = NeuralNetwork()\n",
    "model(x)"
   ]
  },
  {
   "cell_type": "markdown",
   "metadata": {},
   "source": [
    "`forward()`メソッドをこちらから呼び出す必要はないっぽい。\n",
    "\n",
    "kerasと違って1次元の入力もできる"
   ]
  },
  {
   "cell_type": "code",
   "execution_count": 63,
   "metadata": {},
   "outputs": [
    {
     "data": {
      "text/plain": [
       "tensor([-0.0897], grad_fn=<AddBackward0>)"
      ]
     },
     "execution_count": 63,
     "metadata": {},
     "output_type": "execute_result"
    }
   ],
   "source": [
    "model(x[0])"
   ]
  },
  {
   "cell_type": "markdown",
   "metadata": {},
   "source": [
    "パラメータもレイヤーのやつと同じ様に求められる"
   ]
  },
  {
   "cell_type": "code",
   "execution_count": 64,
   "metadata": {},
   "outputs": [
    {
     "data": {
      "text/plain": [
       "[Parameter containing:\n",
       " tensor([[-0.2538,  0.2280,  0.0749, -0.0023,  0.2559,  0.1453, -0.0696,  0.0230,\n",
       "          -0.2359, -0.1536],\n",
       "         [-0.0563,  0.1059,  0.3136, -0.1034,  0.1313, -0.1395, -0.1700, -0.0046,\n",
       "           0.1533, -0.2799],\n",
       "         [-0.2651, -0.1808,  0.2632, -0.1076,  0.3100,  0.2641,  0.0506,  0.1603,\n",
       "           0.0966, -0.1592],\n",
       "         [ 0.2852, -0.0993, -0.2019, -0.2733, -0.1509,  0.2160,  0.1037, -0.0433,\n",
       "           0.2344,  0.1087],\n",
       "         [-0.1708, -0.2179, -0.2725,  0.2005, -0.1602,  0.0326,  0.3096,  0.2741,\n",
       "          -0.3134, -0.2311]], requires_grad=True),\n",
       " Parameter containing:\n",
       " tensor([ 0.0940, -0.1752,  0.0303,  0.0253,  0.0762], requires_grad=True),\n",
       " Parameter containing:\n",
       " tensor([[-0.4457,  0.3763,  0.1036, -0.3130, -0.2868]], requires_grad=True),\n",
       " Parameter containing:\n",
       " tensor([0.2961], requires_grad=True)]"
      ]
     },
     "execution_count": 64,
     "metadata": {},
     "output_type": "execute_result"
    }
   ],
   "source": [
    "list(model.parameters())"
   ]
  },
  {
   "cell_type": "markdown",
   "metadata": {},
   "source": [
    "\n",
    "---\n",
    "\n",
    "## 学習データ\n",
    "\n",
    "今回はsin波の続きを予測するモデルを作る。とりあえずnumpyで用意する。"
   ]
  },
  {
   "cell_type": "code",
   "execution_count": 65,
   "metadata": {},
   "outputs": [],
   "source": [
    "import my_datasets # 自作モジュール\n",
    "import matplotlib.pyplot as plt"
   ]
  },
  {
   "cell_type": "code",
   "execution_count": 129,
   "metadata": {},
   "outputs": [
    {
     "data": {
      "image/png": "[encoded data removed]",
      "text/plain": [
       "<Figure size 576x288 with 1 Axes>"
      ]
     },
     "metadata": {
      "needs_background": "light"
     },
     "output_type": "display_data"
    }
   ],
   "source": [
    "sin_y = my_datasets.SinNoise(10000)\n",
    "plt.plot(sin_y[:500]);"
   ]
  },
  {
   "cell_type": "code",
   "execution_count": 67,
   "metadata": {},
   "outputs": [],
   "source": [
    "X, y = sin_y.split(50)"
   ]
  },
  {
   "cell_type": "markdown",
   "metadata": {},
   "source": [
    "これをtorchで扱える形に変換する\n",
    "\n",
    "[torch.utils.data — PyTorch 1.11.0 documentation](https://pytorch.org/docs/stable/data.html)"
   ]
  },
  {
   "cell_type": "markdown",
   "metadata": {},
   "source": [
    "#### Tensor\n",
    "\n",
    "Tensorに変換"
   ]
  },
  {
   "cell_type": "code",
   "execution_count": 68,
   "metadata": {},
   "outputs": [
    {
     "name": "stdout",
     "output_type": "stream",
     "text": [
      "torch.Size([9950, 50]) torch.Size([9950])\n"
     ]
    }
   ],
   "source": [
    "X = torch.tensor(X, dtype=torch.float32)\n",
    "y = torch.tensor(y, dtype=torch.float32)\n",
    "print(X.size(), y.size())"
   ]
  },
  {
   "cell_type": "markdown",
   "metadata": {},
   "source": [
    "#### Dataset\n",
    "\n",
    "Datasetを作成。特徴量とラベルを一つにまとめたもの。\n",
    "\n",
    "[PytorchのDatasetを徹底解説（自作データセットも作れる）｜努力のガリレオ](https://dreamer-uma.com/pytorch-dataset/)"
   ]
  },
  {
   "cell_type": "code",
   "execution_count": 69,
   "metadata": {},
   "outputs": [],
   "source": [
    "datasets = torch.utils.data.TensorDataset(X, y)"
   ]
  },
  {
   "cell_type": "markdown",
   "metadata": {},
   "source": [
    "#### DataLoader\n",
    "\n",
    "DataLoaderを作成。学習データをバッチサイズ分取り出すジェネレータ。"
   ]
  },
  {
   "cell_type": "code",
   "execution_count": 70,
   "metadata": {},
   "outputs": [],
   "source": [
    "batch_size = 256\n",
    "\n",
    "data_loader = torch.utils.data.DataLoader(\n",
    "    dataset=datasets,\n",
    "    batch_size=batch_size,\n",
    "    shuffle=True) # ミニバッチをランダムに取り出す"
   ]
  },
  {
   "cell_type": "code",
   "execution_count": 71,
   "metadata": {},
   "outputs": [
    {
     "name": "stdout",
     "output_type": "stream",
     "text": [
      "<class 'torch.Tensor'> torch.Size([256, 50])\n",
      "<class 'torch.Tensor'> torch.Size([256])\n"
     ]
    }
   ],
   "source": [
    "# ちょっと見てみる\n",
    "X, y = next(iter(data_loader))\n",
    "print(type(X), X.size())\n",
    "print(type(y), y.size())\n"
   ]
  },
  {
   "cell_type": "markdown",
   "metadata": {},
   "source": [
    "### torchvision\n",
    "\n",
    "サンプルデータ。torchで使いやすくなっている。"
   ]
  },
  {
   "cell_type": "code",
   "execution_count": 72,
   "metadata": {},
   "outputs": [],
   "source": [
    "from torchvision.datasets import MNIST\n",
    "from torchvision import transforms"
   ]
  },
  {
   "cell_type": "markdown",
   "metadata": {},
   "source": [
    "datasetとして読み込み\n",
    "\n",
    "```\n",
    "data = MNIST(\n",
    "    root='./data', # データのファイルパス(ない場合は勝手にダウンロードされる)\n",
    "    train=True, # 訓練データかラベルデータか\n",
    "    transform=transforms.ToTensor(), # Tensor型に変換\n",
    "    download=False)\n",
    "```"
   ]
  },
  {
   "cell_type": "code",
   "execution_count": 73,
   "metadata": {},
   "outputs": [
    {
     "data": {
      "text/plain": [
       "Dataset MNIST\n",
       "    Number of datapoints: 60000\n",
       "    Root location: ./data\n",
       "    Split: Train\n",
       "    StandardTransform\n",
       "Transform: ToTensor()"
      ]
     },
     "execution_count": 73,
     "metadata": {},
     "output_type": "execute_result"
    }
   ],
   "source": [
    "train_data = MNIST(\n",
    "    root='./data',\n",
    "    train=True,\n",
    "    transform=transforms.ToTensor(),\n",
    "    download=False)\n",
    "\n",
    "test_data = MNIST(\n",
    "    root='./data',\n",
    "    train=False,\n",
    "    transform=transforms.ToTensor(),\n",
    "    download=False)\n",
    "\n",
    "train_data"
   ]
  },
  {
   "cell_type": "markdown",
   "metadata": {},
   "source": [
    "特徴とラベルに分けたい場合"
   ]
  },
  {
   "cell_type": "code",
   "execution_count": 74,
   "metadata": {},
   "outputs": [
    {
     "data": {
      "text/plain": [
       "(torch.Size([60000, 28, 28]), torch.Size([60000]))"
      ]
     },
     "execution_count": 74,
     "metadata": {},
     "output_type": "execute_result"
    }
   ],
   "source": [
    "X_train = train_data.data\n",
    "y_train = train_data.targets\n",
    "X_train.size(), y_train.size()"
   ]
  },
  {
   "cell_type": "markdown",
   "metadata": {},
   "source": [
    "同じ様にDataLoaderに変換"
   ]
  },
  {
   "cell_type": "code",
   "execution_count": 75,
   "metadata": {},
   "outputs": [],
   "source": [
    "batch_size = 256\n",
    "\n",
    "train_loader = torch.utils.data.DataLoader(\n",
    "    dataset=train_data,\n",
    "    batch_size=batch_size,\n",
    "    shuffle=True)\n",
    "\n",
    "test_loader = torch.utils.data.DataLoader(\n",
    "    dataset=test_data,\n",
    "    batch_size=batch_size,\n",
    "    shuffle=False)"
   ]
  },
  {
   "cell_type": "code",
   "execution_count": 76,
   "metadata": {},
   "outputs": [
    {
     "name": "stdout",
     "output_type": "stream",
     "text": [
      "<class 'torch.Tensor'> torch.Size([256, 1, 28, 28])\n",
      "<class 'torch.Tensor'> torch.Size([256])\n"
     ]
    }
   ],
   "source": [
    "for X, y in train_loader:\n",
    "    print(type(X), X.size())\n",
    "    print(type(y), y.size())\n",
    "    break"
   ]
  },
  {
   "cell_type": "markdown",
   "metadata": {},
   "source": [
    "\n",
    "---\n",
    "\n",
    "## 学習\n",
    "\n",
    "上で述べた通り、今回はsin波の続きを予測するモデルを作る。\n",
    "\n",
    "学習させる。その前に、誤差関数、学習アルゴリズムを決める。"
   ]
  },
  {
   "cell_type": "markdown",
   "metadata": {},
   "source": [
    "### 誤差関数\n",
    "\n",
    "交差エントロピーを例に挙げる"
   ]
  },
  {
   "cell_type": "code",
   "execution_count": 77,
   "metadata": {},
   "outputs": [
    {
     "name": "stdout",
     "output_type": "stream",
     "text": [
      "<class 'torch.Tensor'>\n",
      "tensor(0.9005, dtype=torch.float64) torch.Size([])\n"
     ]
    }
   ],
   "source": [
    "p = torch.tensor([[0.1, 0.2, 0.7], [0.3, 0.4, 0.3]])\n",
    "t = torch.tensor([[0, 0, 1], [0, 1, 0]], dtype=float)\n",
    "loss = F.cross_entropy(p, t)\n",
    "print(type(loss))\n",
    "print(loss, loss.size())"
   ]
  },
  {
   "cell_type": "markdown",
   "metadata": {},
   "source": [
    "(サンプル数, クラス数)の出力とラベルを与えると誤差が返ってくる。型はfloatではなくTensor。"
   ]
  },
  {
   "cell_type": "markdown",
   "metadata": {},
   "source": [
    "### 学習アルゴリズム\n",
    "\n",
    "おぷてぃまいざー。"
   ]
  },
  {
   "cell_type": "code",
   "execution_count": 78,
   "metadata": {},
   "outputs": [],
   "source": [
    "from torch import optim"
   ]
  },
  {
   "cell_type": "markdown",
   "metadata": {},
   "source": [
    "SGD(確率的勾配降下法)\n",
    "\n",
    "モデルのパラメータと学習率を与えてインスタンスを生成。"
   ]
  },
  {
   "cell_type": "code",
   "execution_count": 79,
   "metadata": {},
   "outputs": [],
   "source": [
    "optimizer = optim.SGD(model.parameters(), lr=0.01)"
   ]
  },
  {
   "cell_type": "markdown",
   "metadata": {},
   "source": [
    "### 学習\n",
    "\n",
    "`fit()`みたいなメソッドが用意されているわけでは無いので、自分で書く。  \n",
    "\n",
    "とりあえずDataLoader、modelなど作成"
   ]
  },
  {
   "cell_type": "code",
   "execution_count": 80,
   "metadata": {},
   "outputs": [],
   "source": [
    "input_size, hidden_size, output_size = 50, 10, 1\n",
    "batch_size = 256\n",
    "\n",
    "\n",
    "sin_y = my_datasets.SinNoise(10000)\n",
    "X, y = sin_y.split(50)\n",
    "X = torch.tensor(X, dtype=torch.float32)\n",
    "y = torch.tensor(y, dtype=torch.float32)\n",
    "datasets = torch.utils.data.TensorDataset(X, y)\n",
    "data_loader = torch.utils.data.DataLoader(\n",
    "    dataset=datasets,\n",
    "    batch_size=batch_size,\n",
    "    shuffle=True)\n",
    "\n",
    "class NeuralNetwork(nn.Module):\n",
    "    def __init__(self):\n",
    "        super().__init__()\n",
    "        self.l1 = nn.Linear(input_size, hidden_size)\n",
    "        self.l2 = nn.Linear(hidden_size, output_size)\n",
    "\n",
    "    def forward(self, x):\n",
    "        z = F.relu(self.l1(x))\n",
    "        y = self.l2(z)\n",
    "        return y\n",
    "\n",
    "model = NeuralNetwork()\n",
    "optimizer = optim.SGD(model.parameters(), lr=0.01)"
   ]
  },
  {
   "cell_type": "markdown",
   "metadata": {},
   "source": [
    "#### パラメータの更新\n",
    "\n",
    "自動微分で勾配を求めてパラメータを更新する"
   ]
  },
  {
   "cell_type": "markdown",
   "metadata": {},
   "source": [
    "まずミニバッチを取得し、予測する"
   ]
  },
  {
   "cell_type": "code",
   "execution_count": 81,
   "metadata": {},
   "outputs": [],
   "source": [
    "batch_X, batch_y = next(iter(data_loader))\n",
    "y = model(batch_X)"
   ]
  },
  {
   "cell_type": "markdown",
   "metadata": {},
   "source": [
    "モデルを学習モードにする"
   ]
  },
  {
   "cell_type": "code",
   "execution_count": 82,
   "metadata": {},
   "outputs": [
    {
     "data": {
      "text/plain": [
       "NeuralNetwork(\n",
       "  (l1): Linear(in_features=50, out_features=10, bias=True)\n",
       "  (l2): Linear(in_features=10, out_features=1, bias=True)\n",
       ")"
      ]
     },
     "execution_count": 82,
     "metadata": {},
     "output_type": "execute_result"
    }
   ],
   "source": [
    "model.train()"
   ]
  },
  {
   "cell_type": "markdown",
   "metadata": {},
   "source": [
    "誤差の算出。平均二乗誤差。"
   ]
  },
  {
   "cell_type": "code",
   "execution_count": 83,
   "metadata": {},
   "outputs": [
    {
     "data": {
      "text/plain": [
       "tensor(0.5819, grad_fn=<MseLossBackward0>)"
      ]
     },
     "execution_count": 83,
     "metadata": {},
     "output_type": "execute_result"
    }
   ],
   "source": [
    "loss = F.mse_loss(y, batch_y.view(-1, 1))\n",
    "loss"
   ]
  },
  {
   "cell_type": "markdown",
   "metadata": {},
   "source": [
    "逆伝播で勾配を求める。誤差関数の各変数に勾配が保存される。"
   ]
  },
  {
   "cell_type": "code",
   "execution_count": 84,
   "metadata": {},
   "outputs": [],
   "source": [
    "# 逆伝播\n",
    "loss.backward()"
   ]
  },
  {
   "cell_type": "markdown",
   "metadata": {},
   "source": [
    "勾配に学習率をかけてパラメータを更新する"
   ]
  },
  {
   "cell_type": "code",
   "execution_count": 85,
   "metadata": {},
   "outputs": [],
   "source": [
    "optimizer.step()"
   ]
  },
  {
   "cell_type": "markdown",
   "metadata": {},
   "source": [
    "これらを繰り返し、学習を行う。\n",
    "\n",
    "では、1エポックごとに行う処理を関数化してみる"
   ]
  },
  {
   "cell_type": "code",
   "execution_count": 86,
   "metadata": {},
   "outputs": [],
   "source": [
    "def train():\n",
    "    model.train()\n",
    "    for (X, labels) in data_loader:\n",
    "        # 勾配をリセット\n",
    "        optimizer.zero_grad()\n",
    "\n",
    "        y = model(X)\n",
    "        loss = F.mse_loss(y, labels.view(-1, 1))\n",
    "        loss.backward()\n",
    "        optimizer.step()\n",
    "\n",
    "    return loss.item()"
   ]
  },
  {
   "cell_type": "markdown",
   "metadata": {},
   "source": [
    "ではこれをいっぱい繰り返してみよう"
   ]
  },
  {
   "cell_type": "code",
   "execution_count": 87,
   "metadata": {},
   "outputs": [],
   "source": [
    "eopchs = 100"
   ]
  },
  {
   "cell_type": "code",
   "execution_count": 88,
   "metadata": {},
   "outputs": [],
   "source": [
    "loss = []\n",
    "for _ in range(eopchs):\n",
    "    loss.append(train())"
   ]
  },
  {
   "cell_type": "code",
   "execution_count": 141,
   "metadata": {},
   "outputs": [
    {
     "data": {
      "image/png": "[encoded data removed]",
      "text/plain": [
       "<Figure size 576x288 with 1 Axes>"
      ]
     },
     "metadata": {
      "needs_background": "light"
     },
     "output_type": "display_data"
    }
   ],
   "source": [
    "plt.plot(loss);"
   ]
  },
  {
   "cell_type": "markdown",
   "metadata": {},
   "source": [
    "おー、いいじゃん\n",
    "\n",
    "最初の50個を与えてsin波を生成させてみよう"
   ]
  },
  {
   "cell_type": "code",
   "execution_count": 142,
   "metadata": {},
   "outputs": [
    {
     "data": {
      "image/png": "[encoded data removed]",
      "text/plain": [
       "<Figure size 576x288 with 1 Axes>"
      ]
     },
     "metadata": {
      "needs_background": "light"
     },
     "output_type": "display_data"
    }
   ],
   "source": [
    "n = 50\n",
    "n_iter = 1000\n",
    "sin = my_datasets.SinNoise(n, std=0)\n",
    "sin = torch.FloatTensor(sin)\n",
    "for _ in range(n_iter):\n",
    "    sin = torch.cat((sin, model(sin[-n:])))\n",
    "\n",
    "plt.plot(my_datasets.SinNoise(n_iter, std=0), label='sin')\n",
    "plt.plot(sin.detach().numpy(), label='predict')\n",
    "plt.legend();"
   ]
  }
 ],
 "metadata": {
  "interpreter": {
   "hash": "a206c1e5df64df63b66699542b0c9618e721e458ad77ebcb32e657bf099f9bb2"
  },
  "kernelspec": {
   "display_name": "Python 3.9.6 ('.venv': venv)",
   "language": "python",
   "name": "python3"
  },
  "language_info": {
   "codemirror_mode": {
    "name": "ipython",
    "version": 3
   },
   "file_extension": ".py",
   "mimetype": "text/x-python",
   "name": "python",
   "nbconvert_exporter": "python",
   "pygments_lexer": "ipython3",
   "version": "3.11.3"
  },
  "orig_nbformat": 4
 },
 "nbformat": 4,
 "nbformat_minor": 2
}
