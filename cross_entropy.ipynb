{
 "cells": [
  {
   "attachments": {},
   "cell_type": "markdown",
   "metadata": {},
   "source": [
    "# Cross Entropy\n",
    "\n",
    "交差エントロピー\n",
    "\n",
    "$$\n",
    "E(x,y) = - \\sum_{k} y_k \\log{x_k}\n",
    "$$"
   ]
  },
  {
   "cell_type": "code",
   "execution_count": 1,
   "metadata": {},
   "outputs": [],
   "source": [
    "import torch\n",
    "from torch import nn"
   ]
  },
  {
   "attachments": {},
   "cell_type": "markdown",
   "metadata": {},
   "source": [
    "\n",
    "---\n",
    "\n",
    "## `nn.CrossEntropyLoss`\n",
    "\n",
    "- [CrossEntropyLoss — PyTorch 2.0 documentation](https://pytorch.org/docs/stable/generated/torch.nn.CrossEntropyLoss.html#torch.nn.CrossEntropyLoss)\n",
    "\n",
    "<br>\n",
    "\n",
    "PyTorchで用意されているclass。  \n",
    "ここにはsoftmax関数も含まれているので、これを使う場合はモデルにsoftmaxを入れる必要がない。\n",
    "\n",
    "$$\n",
    "\\begin{align}\n",
    "y\n",
    "    &= f(x, t) \\\\\n",
    "    &= -\\sum_k t_k \\log (softmax(x_k))\n",
    "\\end{align}\n",
    "$$\n",
    "\n",
    "- $f(x, t)$: torchの交差エントロピー\n",
    "- $x$: 入力\n",
    "- $t$: 正解ラベル"
   ]
  },
  {
   "cell_type": "code",
   "execution_count": 2,
   "metadata": {},
   "outputs": [],
   "source": [
    "ce = nn.CrossEntropyLoss()"
   ]
  },
  {
   "cell_type": "code",
   "execution_count": 3,
   "metadata": {},
   "outputs": [
    {
     "data": {
      "text/plain": [
       "1.31326162815094"
      ]
     },
     "execution_count": 3,
     "metadata": {},
     "output_type": "execute_result"
    }
   ],
   "source": [
    "x = torch.tensor([0, 1], dtype=torch.float32)\n",
    "l = torch.tensor([1, 0], dtype=torch.float32)\n",
    "y = ce(x, l)\n",
    "y.item()"
   ]
  },
  {
   "attachments": {},
   "cell_type": "markdown",
   "metadata": {},
   "source": [
    "softmaxが勝手に入るので、二つのone-hotベクトルが一致していても出力が0にならない。"
   ]
  },
  {
   "cell_type": "code",
   "execution_count": 4,
   "metadata": {},
   "outputs": [
    {
     "data": {
      "text/plain": [
       "0.31326165795326233"
      ]
     },
     "execution_count": 4,
     "metadata": {},
     "output_type": "execute_result"
    }
   ],
   "source": [
    "x = torch.tensor([1, 0], dtype=torch.float32)\n",
    "l = torch.tensor([1, 0], dtype=torch.float32)\n",
    "y = ce(x, l)\n",
    "y.item()"
   ]
  },
  {
   "attachments": {},
   "cell_type": "markdown",
   "metadata": {},
   "source": [
    "`float`以外は入力できない。"
   ]
  },
  {
   "cell_type": "code",
   "execution_count": 5,
   "metadata": {},
   "outputs": [
    {
     "name": "stdout",
     "output_type": "stream",
     "text": [
      "dtypes: torch.int64 torch.int64\n",
      "Expected floating point type for target with class probabilities, got Long\n"
     ]
    }
   ],
   "source": [
    "x = torch.tensor([1, 0])\n",
    "l = torch.tensor([1, 0])\n",
    "print(\"dtypes:\", x.dtype, l.dtype)\n",
    "try:\n",
    "    ce(x, l)\n",
    "except Exception as e:\n",
    "    print(e)"
   ]
  },
  {
   "attachments": {},
   "cell_type": "markdown",
   "metadata": {},
   "source": [
    "\n",
    "---\n",
    "\n",
    "## `Reduction`\n",
    "\n",
    "ベクトルが複数ある場合(2次元以上のテンソル)にどのような演算を行うかを指定する引数。  \n",
    "\n",
    "- `none`: 各ベクトルの損失を計算する\n",
    "- `mean`: 全ベクトルの損失の平均を計算する\n",
    "- `sum`: 全ベクトルの損失の合計を計算する\n",
    "\n",
    "デフォルト: `mean`"
   ]
  },
  {
   "cell_type": "code",
   "execution_count": 6,
   "metadata": {},
   "outputs": [
    {
     "data": {
      "text/plain": [
       "tensor([0.3133, 0.6931])"
      ]
     },
     "execution_count": 6,
     "metadata": {},
     "output_type": "execute_result"
    }
   ],
   "source": [
    "# none\n",
    "ce = nn.CrossEntropyLoss(reduction='none')\n",
    "x = torch.tensor([[1, 0], [0.5, 0.5]], dtype=torch.float32)\n",
    "l = torch.tensor([[1, 0], [0, 1]], dtype=torch.float32)\n",
    "y = ce(x, l)\n",
    "y"
   ]
  },
  {
   "cell_type": "code",
   "execution_count": 7,
   "metadata": {},
   "outputs": [
    {
     "data": {
      "text/plain": [
       "tensor(0.5032)"
      ]
     },
     "execution_count": 7,
     "metadata": {},
     "output_type": "execute_result"
    }
   ],
   "source": [
    "# mean\n",
    "ce = nn.CrossEntropyLoss(reduction='mean')\n",
    "x = torch.tensor([[1, 0], [0.5, 0.5]], dtype=torch.float32)\n",
    "l = torch.tensor([[1, 0], [0, 1]], dtype=torch.float32)\n",
    "y = ce(x, l)\n",
    "y"
   ]
  },
  {
   "cell_type": "code",
   "execution_count": 8,
   "metadata": {},
   "outputs": [
    {
     "data": {
      "text/plain": [
       "tensor(1.0064)"
      ]
     },
     "execution_count": 8,
     "metadata": {},
     "output_type": "execute_result"
    }
   ],
   "source": [
    "# sum\n",
    "ce = nn.CrossEntropyLoss(reduction='sum')\n",
    "x = torch.tensor([[1, 0], [0.5, 0.5]], dtype=torch.float32)\n",
    "l = torch.tensor([[1, 0], [0, 1]], dtype=torch.float32)\n",
    "y = ce(x, l)\n",
    "y"
   ]
  },
  {
   "attachments": {},
   "cell_type": "markdown",
   "metadata": {},
   "source": [
    "\n",
    "---\n",
    "\n",
    "## クラスラベルの直接入力\n",
    "\n",
    "クラスラベルはone-hotベクトルでなく直接整数値を入力することもできる。"
   ]
  },
  {
   "cell_type": "code",
   "execution_count": 9,
   "metadata": {},
   "outputs": [
    {
     "data": {
      "text/plain": [
       "tensor(0.8956)"
      ]
     },
     "execution_count": 9,
     "metadata": {},
     "output_type": "execute_result"
    }
   ],
   "source": [
    "ce = nn.CrossEntropyLoss()\n",
    "x = torch.tensor([[1, 0, 0], [0.5, 0.3, 0.2]], dtype=torch.float32)\n",
    "l = torch.tensor([0, 2])\n",
    "y = ce(x, l)\n",
    "y"
   ]
  },
  {
   "attachments": {},
   "cell_type": "markdown",
   "metadata": {},
   "source": [
    "\n",
    "---\n",
    "\n",
    "## `ignore_index`\n",
    "\n",
    "演算時に無視するクラスラベルを指定する引数。"
   ]
  },
  {
   "cell_type": "code",
   "execution_count": 10,
   "metadata": {},
   "outputs": [
    {
     "data": {
      "text/plain": [
       "tensor([0.3133, 0.6931])"
      ]
     },
     "execution_count": 10,
     "metadata": {},
     "output_type": "execute_result"
    }
   ],
   "source": [
    "# 何も指定しない場合\n",
    "ce = nn.CrossEntropyLoss(reduction='none')\n",
    "x = torch.tensor([[1, 0], [0.5, 0.5]], dtype=torch.float32)\n",
    "l = torch.tensor([0, 1])\n",
    "y = ce(x, l)\n",
    "y"
   ]
  },
  {
   "attachments": {},
   "cell_type": "markdown",
   "metadata": {},
   "source": [
    "1つ目のベクトルはクラス0, 2つ目はクラス1。それぞれの損失は上記。  \n",
    "`ignore_index`を指定して、片方のクラスを無視してみる。  "
   ]
  },
  {
   "cell_type": "code",
   "execution_count": 11,
   "metadata": {},
   "outputs": [
    {
     "data": {
      "text/plain": [
       "tensor([0.3133, 0.0000])"
      ]
     },
     "execution_count": 11,
     "metadata": {},
     "output_type": "execute_result"
    }
   ],
   "source": [
    "ce = nn.CrossEntropyLoss(ignore_index=1, reduction='none')\n",
    "x = torch.tensor([[1, 0], [0.5, 0.5]], dtype=torch.float32)\n",
    "l = torch.tensor([0, 1])\n",
    "y = ce(x, l)\n",
    "y"
   ]
  },
  {
   "attachments": {},
   "cell_type": "markdown",
   "metadata": {},
   "source": [
    "クラス1を無視するように指定した結果、対応する損失が0になった。\n",
    "\n",
    "`reduction`を`'mean'`や`'sum'`にしてもちゃんと無視した状態で値が計算される。"
   ]
  },
  {
   "cell_type": "code",
   "execution_count": 12,
   "metadata": {},
   "outputs": [
    {
     "data": {
      "text/plain": [
       "tensor(0.3133)"
      ]
     },
     "execution_count": 12,
     "metadata": {},
     "output_type": "execute_result"
    }
   ],
   "source": [
    "ce = nn.CrossEntropyLoss(ignore_index=1, reduction='mean')\n",
    "x = torch.tensor([[1, 0], [0.5, 0.5]], dtype=torch.float32)\n",
    "l = torch.tensor([0, 1])\n",
    "y = ce(x, l)\n",
    "y"
   ]
  },
  {
   "attachments": {},
   "cell_type": "markdown",
   "metadata": {},
   "source": [
    "またこの引数を使用する場合はクラスラベルを直接入力する必要がある。"
   ]
  },
  {
   "cell_type": "code",
   "execution_count": 13,
   "metadata": {},
   "outputs": [
    {
     "name": "stdout",
     "output_type": "stream",
     "text": [
      "ignore_index is not supported for floating point target\n"
     ]
    }
   ],
   "source": [
    "ce = nn.CrossEntropyLoss(ignore_index=1, reduction='none')\n",
    "x = torch.tensor([[1, 0], [0.5, 0.5]], dtype=torch.float32)\n",
    "l = torch.tensor([[0, 1], [0, 1]], dtype=torch.float32)\n",
    "try:\n",
    "    ce(x, l)\n",
    "except Exception as e:\n",
    "    print(e)"
   ]
  },
  {
   "attachments": {},
   "cell_type": "markdown",
   "metadata": {},
   "source": [
    "\n",
    "---\n",
    "\n",
    "## 形状\n",
    "\n",
    "入力tensorの形状。対応しているものは以下。\n",
    "\n",
    "- $(C)$\n",
    "- $(N, C)$\n",
    "- $(N, C, d_1, d_2, ..., d_K)$"
   ]
  },
  {
   "attachments": {},
   "cell_type": "markdown",
   "metadata": {},
   "source": [
    "### 1次元\n",
    "\n",
    "$(C)$"
   ]
  },
  {
   "cell_type": "code",
   "execution_count": 14,
   "metadata": {},
   "outputs": [
    {
     "data": {
      "text/plain": [
       "tensor(1.3133)"
      ]
     },
     "execution_count": 14,
     "metadata": {},
     "output_type": "execute_result"
    }
   ],
   "source": [
    "ce = nn.CrossEntropyLoss()\n",
    "x = torch.tensor([0, 1], dtype=torch.float32)\n",
    "l = torch.tensor([1, 0], dtype=torch.float32)\n",
    "y = ce(x, l)\n",
    "y"
   ]
  },
  {
   "attachments": {},
   "cell_type": "markdown",
   "metadata": {},
   "source": [
    "### 2次元\n",
    "\n",
    "$(N, C)$  \n",
    "`reduction`に依って挙動が変わる。"
   ]
  },
  {
   "cell_type": "code",
   "execution_count": 15,
   "metadata": {},
   "outputs": [
    {
     "data": {
      "text/plain": [
       "tensor(1.3133)"
      ]
     },
     "execution_count": 15,
     "metadata": {},
     "output_type": "execute_result"
    }
   ],
   "source": [
    "ce = nn.CrossEntropyLoss()\n",
    "x = torch.tensor([0, 1], dtype=torch.float32).reshape(1, -1)\n",
    "l = torch.tensor([1, 0], dtype=torch.float32).reshape(1, -1)\n",
    "y = ce(x, l)\n",
    "y"
   ]
  },
  {
   "attachments": {},
   "cell_type": "markdown",
   "metadata": {},
   "source": [
    "### 3次元以上\n",
    "\n",
    "$(N, C, d1, d2, \\cdots, d_K)$\n",
    "\n",
    "最後の軸をクラス数として扱ってくれる訳ではないので注意。"
   ]
  },
  {
   "cell_type": "code",
   "execution_count": 16,
   "metadata": {},
   "outputs": [
    {
     "data": {
      "text/plain": [
       "tensor(-0.)"
      ]
     },
     "execution_count": 16,
     "metadata": {},
     "output_type": "execute_result"
    }
   ],
   "source": [
    "ce = nn.CrossEntropyLoss()\n",
    "x = torch.tensor([0, 1], dtype=torch.float32).reshape(1, 1, -1)\n",
    "l = torch.tensor([1, 0], dtype=torch.float32).reshape(1, 1, -1)\n",
    "y = ce(x, l)\n",
    "y"
   ]
  },
  {
   "attachments": {},
   "cell_type": "markdown",
   "metadata": {},
   "source": [
    "これはクラス数1と解釈されているので0になる（1次元ベクトルをsoftmaxにかけると必ず1になり、$\\log1=0$であるため、$\\frac{(0 + 0)}{2}=0$）。  \n",
    "演算は以下と同じということになる。"
   ]
  },
  {
   "cell_type": "code",
   "execution_count": 17,
   "metadata": {},
   "outputs": [
    {
     "data": {
      "text/plain": [
       "tensor(0.)"
      ]
     },
     "execution_count": 17,
     "metadata": {},
     "output_type": "execute_result"
    }
   ],
   "source": [
    "ce = nn.CrossEntropyLoss()\n",
    "zero = torch.tensor([0], dtype=torch.float32)\n",
    "one = torch.tensor([1], dtype=torch.float32)\n",
    "y = (ce(zero, one) + ce(one, zero)).mean()\n",
    "y"
   ]
  }
 ],
 "metadata": {
  "kernelspec": {
   "display_name": "dl",
   "language": "python",
   "name": "python3"
  },
  "language_info": {
   "codemirror_mode": {
    "name": "ipython",
    "version": 3
   },
   "file_extension": ".py",
   "mimetype": "text/x-python",
   "name": "python",
   "nbconvert_exporter": "python",
   "pygments_lexer": "ipython3",
   "version": "3.11.3"
  },
  "orig_nbformat": 4
 },
 "nbformat": 4,
 "nbformat_minor": 2
}
