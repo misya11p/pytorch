{
 "cells": [
  {
   "attachments": {},
   "cell_type": "markdown",
   "metadata": {},
   "source": [
    "# Cross Entropy\n",
    "\n",
    "交差エントロピー\n",
    "\n",
    "分類問題で使われる損失関数。元々は、情報理論における二つの確率分布の距離を表す指標。\n",
    "\n",
    "$$\n",
    "E(x, y) = - \\sum_{k} y_k \\log{t_k}\n",
    "$$\n"
   ]
  },
  {
   "cell_type": "code",
   "execution_count": null,
   "metadata": {},
   "outputs": [],
   "source": []
  },
  {
   "cell_type": "code",
   "execution_count": null,
   "metadata": {},
   "outputs": [],
   "source": []
  }
 ],
 "metadata": {
  "language_info": {
   "name": "python"
  },
  "orig_nbformat": 4
 },
 "nbformat": 4,
 "nbformat_minor": 2
}
